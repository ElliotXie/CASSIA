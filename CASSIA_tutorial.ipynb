{
 "cells": [
  {
   "cell_type": "code",
   "execution_count": 1,
   "metadata": {},
   "outputs": [
    {
     "name": "stdout",
     "output_type": "stream",
     "text": [
      "Collecting CASSIA\n",
      "  Obtaining dependency information for CASSIA from https://files.pythonhosted.org/packages/fd/14/94da6522b1364498cddd2c537019fc450393500cdc692b689297115da8ec/CASSIA-0.1-py3-none-any.whl.metadata\n",
      "  Downloading CASSIA-0.1-py3-none-any.whl.metadata (147 bytes)\n",
      "Collecting numpy (from CASSIA)\n",
      "  Obtaining dependency information for numpy from https://files.pythonhosted.org/packages/a6/84/fa11dad3404b7634aaab50733581ce11e5350383311ea7a7010f464c0170/numpy-2.1.3-cp312-cp312-win_amd64.whl.metadata\n",
      "  Downloading numpy-2.1.3-cp312-cp312-win_amd64.whl.metadata (60 kB)\n",
      "     ---------------------------------------- 0.0/60.8 kB ? eta -:--:--\n",
      "     ------------------- ------------------ 30.7/60.8 kB 640.0 kB/s eta 0:00:01\n",
      "     ---------------------------------------- 60.8/60.8 kB 1.1 MB/s eta 0:00:00\n",
      "Collecting pandas (from CASSIA)\n",
      "  Obtaining dependency information for pandas from https://files.pythonhosted.org/packages/29/d4/1244ab8edf173a10fd601f7e13b9566c1b525c4f365d6bee918e68381889/pandas-2.2.3-cp312-cp312-win_amd64.whl.metadata\n",
      "  Downloading pandas-2.2.3-cp312-cp312-win_amd64.whl.metadata (19 kB)\n",
      "Collecting openai (from CASSIA)\n",
      "  Obtaining dependency information for openai from https://files.pythonhosted.org/packages/81/b2/9d8939c9ef73e6a2d5cb3366ef3fabd728a8de4729210d9af785c0edc6ec/openai-1.55.0-py3-none-any.whl.metadata\n",
      "  Downloading openai-1.55.0-py3-none-any.whl.metadata (24 kB)\n",
      "Collecting anthropic (from CASSIA)\n",
      "  Obtaining dependency information for anthropic from https://files.pythonhosted.org/packages/94/61/2580eaa171cab20708d59d39cadd15f78a6c617759e8d0a12e18fe3302d1/anthropic-0.39.0-py3-none-any.whl.metadata\n",
      "  Downloading anthropic-0.39.0-py3-none-any.whl.metadata (22 kB)\n",
      "Collecting anyio<5,>=3.5.0 (from anthropic->CASSIA)\n",
      "  Obtaining dependency information for anyio<5,>=3.5.0 from https://files.pythonhosted.org/packages/e4/f5/f2b75d2fc6f1a260f340f0e7c6a060f4dd2961cc16884ed851b0d18da06a/anyio-4.6.2.post1-py3-none-any.whl.metadata\n",
      "  Downloading anyio-4.6.2.post1-py3-none-any.whl.metadata (4.7 kB)\n",
      "Collecting distro<2,>=1.7.0 (from anthropic->CASSIA)\n",
      "  Obtaining dependency information for distro<2,>=1.7.0 from https://files.pythonhosted.org/packages/12/b3/231ffd4ab1fc9d679809f356cebee130ac7daa00d6d6f3206dd4fd137e9e/distro-1.9.0-py3-none-any.whl.metadata\n",
      "  Using cached distro-1.9.0-py3-none-any.whl.metadata (6.8 kB)\n",
      "Collecting httpx<1,>=0.23.0 (from anthropic->CASSIA)\n",
      "  Obtaining dependency information for httpx<1,>=0.23.0 from https://files.pythonhosted.org/packages/56/95/9377bcb415797e44274b51d46e3249eba641711cf3348050f76ee7b15ffc/httpx-0.27.2-py3-none-any.whl.metadata\n",
      "  Using cached httpx-0.27.2-py3-none-any.whl.metadata (7.1 kB)\n",
      "Collecting jiter<1,>=0.4.0 (from anthropic->CASSIA)\n",
      "  Obtaining dependency information for jiter<1,>=0.4.0 from https://files.pythonhosted.org/packages/01/d2/d8ec257544f7991384a46fccee6abdc5065cfede26354bb2c86251858a92/jiter-0.7.1-cp312-none-win_amd64.whl.metadata\n",
      "  Downloading jiter-0.7.1-cp312-none-win_amd64.whl.metadata (5.3 kB)\n",
      "Collecting pydantic<3,>=1.9.0 (from anthropic->CASSIA)\n",
      "  Obtaining dependency information for pydantic<3,>=1.9.0 from https://files.pythonhosted.org/packages/e0/fc/fda48d347bd50a788dd2a0f318a52160f911b86fc2d8b4c86f4d7c9bceea/pydantic-2.10.1-py3-none-any.whl.metadata\n",
      "  Downloading pydantic-2.10.1-py3-none-any.whl.metadata (169 kB)\n",
      "     ---------------------------------------- 0.0/169.7 kB ? eta -:--:--\n",
      "     ------------------------------------ - 163.8/169.7 kB 4.8 MB/s eta 0:00:01\n",
      "     -------------------------------------- 169.7/169.7 kB 5.0 MB/s eta 0:00:00\n",
      "Collecting sniffio (from anthropic->CASSIA)\n",
      "  Obtaining dependency information for sniffio from https://files.pythonhosted.org/packages/e9/44/75a9c9421471a6c4805dbf2356f7c181a29c1879239abab1ea2cc8f38b40/sniffio-1.3.1-py3-none-any.whl.metadata\n",
      "  Using cached sniffio-1.3.1-py3-none-any.whl.metadata (3.9 kB)\n",
      "Requirement already satisfied: typing-extensions<5,>=4.7 in c:\\users\\ellio\\onedrive - uw-madison\\ran\\liana\\liana_env\\lib\\site-packages (from anthropic->CASSIA) (4.12.2)\n",
      "Collecting tqdm>4 (from openai->CASSIA)\n",
      "  Obtaining dependency information for tqdm>4 from https://files.pythonhosted.org/packages/2b/78/57043611a16c655c8350b4c01b8d6abfb38cc2acb475238b62c2146186d7/tqdm-4.67.0-py3-none-any.whl.metadata\n",
      "  Downloading tqdm-4.67.0-py3-none-any.whl.metadata (57 kB)\n",
      "     ---------------------------------------- 0.0/57.6 kB ? eta -:--:--\n",
      "     ---------------------------------------- 57.6/57.6 kB 3.0 MB/s eta 0:00:00\n",
      "Requirement already satisfied: python-dateutil>=2.8.2 in c:\\users\\ellio\\onedrive - uw-madison\\ran\\liana\\liana_env\\lib\\site-packages (from pandas->CASSIA) (2.9.0.post0)\n",
      "Collecting pytz>=2020.1 (from pandas->CASSIA)\n",
      "  Obtaining dependency information for pytz>=2020.1 from https://files.pythonhosted.org/packages/11/c3/005fcca25ce078d2cc29fd559379817424e94885510568bc1bc53d7d5846/pytz-2024.2-py2.py3-none-any.whl.metadata\n",
      "  Using cached pytz-2024.2-py2.py3-none-any.whl.metadata (22 kB)\n",
      "Collecting tzdata>=2022.7 (from pandas->CASSIA)\n",
      "  Obtaining dependency information for tzdata>=2022.7 from https://files.pythonhosted.org/packages/a6/ab/7e5f53c3b9d14972843a647d8d7a853969a58aecc7559cb3267302c94774/tzdata-2024.2-py2.py3-none-any.whl.metadata\n",
      "  Using cached tzdata-2024.2-py2.py3-none-any.whl.metadata (1.4 kB)\n",
      "Collecting idna>=2.8 (from anyio<5,>=3.5.0->anthropic->CASSIA)\n",
      "  Obtaining dependency information for idna>=2.8 from https://files.pythonhosted.org/packages/76/c6/c88e154df9c4e1a2a66ccf0005a88dfb2650c1dffb6f5ce603dfbd452ce3/idna-3.10-py3-none-any.whl.metadata\n",
      "  Using cached idna-3.10-py3-none-any.whl.metadata (10 kB)\n",
      "Collecting certifi (from httpx<1,>=0.23.0->anthropic->CASSIA)\n",
      "  Obtaining dependency information for certifi from https://files.pythonhosted.org/packages/12/90/3c9ff0512038035f59d279fddeb79f5f1eccd8859f06d6163c58798b9487/certifi-2024.8.30-py3-none-any.whl.metadata\n",
      "  Using cached certifi-2024.8.30-py3-none-any.whl.metadata (2.2 kB)\n",
      "Collecting httpcore==1.* (from httpx<1,>=0.23.0->anthropic->CASSIA)\n",
      "  Obtaining dependency information for httpcore==1.* from https://files.pythonhosted.org/packages/87/f5/72347bc88306acb359581ac4d52f23c0ef445b57157adedb9aee0cd689d2/httpcore-1.0.7-py3-none-any.whl.metadata\n",
      "  Downloading httpcore-1.0.7-py3-none-any.whl.metadata (21 kB)\n",
      "Collecting h11<0.15,>=0.13 (from httpcore==1.*->httpx<1,>=0.23.0->anthropic->CASSIA)\n",
      "  Obtaining dependency information for h11<0.15,>=0.13 from https://files.pythonhosted.org/packages/95/04/ff642e65ad6b90db43e668d70ffb6736436c7ce41fcc549f4e9472234127/h11-0.14.0-py3-none-any.whl.metadata\n",
      "  Using cached h11-0.14.0-py3-none-any.whl.metadata (8.2 kB)\n",
      "Collecting annotated-types>=0.6.0 (from pydantic<3,>=1.9.0->anthropic->CASSIA)\n",
      "  Obtaining dependency information for annotated-types>=0.6.0 from https://files.pythonhosted.org/packages/78/b6/6307fbef88d9b5ee7421e68d78a9f162e0da4900bc5f5793f6d3d0e34fb8/annotated_types-0.7.0-py3-none-any.whl.metadata\n",
      "  Using cached annotated_types-0.7.0-py3-none-any.whl.metadata (15 kB)\n",
      "Collecting pydantic-core==2.27.1 (from pydantic<3,>=1.9.0->anthropic->CASSIA)\n",
      "  Obtaining dependency information for pydantic-core==2.27.1 from https://files.pythonhosted.org/packages/ee/f2/c61486eee27cae5ac781305658779b4a6b45f9cc9d02c90cb21b940e82cc/pydantic_core-2.27.1-cp312-none-win_amd64.whl.metadata\n",
      "  Downloading pydantic_core-2.27.1-cp312-none-win_amd64.whl.metadata (6.7 kB)\n",
      "Requirement already satisfied: six>=1.5 in c:\\users\\ellio\\onedrive - uw-madison\\ran\\liana\\liana_env\\lib\\site-packages (from python-dateutil>=2.8.2->pandas->CASSIA) (1.16.0)\n",
      "Requirement already satisfied: colorama in c:\\users\\ellio\\onedrive - uw-madison\\ran\\liana\\liana_env\\lib\\site-packages (from tqdm>4->openai->CASSIA) (0.4.6)\n",
      "Downloading CASSIA-0.1-py3-none-any.whl (1.3 kB)\n",
      "Downloading anthropic-0.39.0-py3-none-any.whl (198 kB)\n",
      "   ---------------------------------------- 0.0/198.4 kB ? eta -:--:--\n",
      "   --------------------------------------- 198.4/198.4 kB 11.8 MB/s eta 0:00:00\n",
      "Downloading numpy-2.1.3-cp312-cp312-win_amd64.whl (12.6 MB)\n",
      "   ---------------------------------------- 0.0/12.6 MB ? eta -:--:--\n",
      "   - -------------------------------------- 0.4/12.6 MB 11.9 MB/s eta 0:00:02\n",
      "   -- ------------------------------------- 0.8/12.6 MB 9.8 MB/s eta 0:00:02\n",
      "   --- ------------------------------------ 1.2/12.6 MB 9.8 MB/s eta 0:00:02\n",
      "   ----- ---------------------------------- 1.7/12.6 MB 9.6 MB/s eta 0:00:02\n",
      "   ------ --------------------------------- 2.2/12.6 MB 9.8 MB/s eta 0:00:02\n",
      "   -------- ------------------------------- 2.6/12.6 MB 9.9 MB/s eta 0:00:02\n",
      "   --------- ------------------------------ 3.1/12.6 MB 9.9 MB/s eta 0:00:01\n",
      "   ----------- ---------------------------- 3.6/12.6 MB 10.0 MB/s eta 0:00:01\n",
      "   ------------ --------------------------- 4.0/12.6 MB 10.3 MB/s eta 0:00:01\n",
      "   ------------- -------------------------- 4.3/12.6 MB 9.4 MB/s eta 0:00:01\n",
      "   --------------- ------------------------ 4.7/12.6 MB 9.7 MB/s eta 0:00:01\n",
      "   ---------------- ----------------------- 5.3/12.6 MB 9.9 MB/s eta 0:00:01\n",
      "   ------------------ --------------------- 5.7/12.6 MB 9.9 MB/s eta 0:00:01\n",
      "   ------------------- -------------------- 6.1/12.6 MB 9.7 MB/s eta 0:00:01\n",
      "   -------------------- ------------------- 6.4/12.6 MB 9.7 MB/s eta 0:00:01\n",
      "   --------------------- ------------------ 6.9/12.6 MB 9.6 MB/s eta 0:00:01\n",
      "   ----------------------- ---------------- 7.3/12.6 MB 9.5 MB/s eta 0:00:01\n",
      "   ------------------------ --------------- 7.7/12.6 MB 9.5 MB/s eta 0:00:01\n",
      "   -------------------------- ------------- 8.2/12.6 MB 9.5 MB/s eta 0:00:01\n",
      "   --------------------------- ------------ 8.6/12.6 MB 9.5 MB/s eta 0:00:01\n",
      "   ---------------------------- ----------- 9.1/12.6 MB 9.5 MB/s eta 0:00:01\n",
      "   ------------------------------ --------- 9.6/12.6 MB 9.6 MB/s eta 0:00:01\n",
      "   ------------------------------- -------- 10.0/12.6 MB 9.5 MB/s eta 0:00:01\n",
      "   --------------------------------- ------ 10.5/12.6 MB 9.6 MB/s eta 0:00:01\n",
      "   ---------------------------------- ----- 10.9/12.6 MB 9.5 MB/s eta 0:00:01\n",
      "   ------------------------------------ --- 11.5/12.6 MB 9.6 MB/s eta 0:00:01\n",
      "   ------------------------------------- -- 11.9/12.6 MB 9.6 MB/s eta 0:00:01\n",
      "   ---------------------------------------  12.4/12.6 MB 9.6 MB/s eta 0:00:01\n",
      "   ---------------------------------------- 12.6/12.6 MB 9.5 MB/s eta 0:00:00\n",
      "Downloading openai-1.55.0-py3-none-any.whl (389 kB)\n",
      "   ---------------------------------------- 0.0/389.5 kB ? eta -:--:--\n",
      "   --------------------------------------- 389.5/389.5 kB 12.2 MB/s eta 0:00:00\n",
      "Downloading pandas-2.2.3-cp312-cp312-win_amd64.whl (11.5 MB)\n",
      "   ---------------------------------------- 0.0/11.5 MB ? eta -:--:--\n",
      "   - -------------------------------------- 0.4/11.5 MB 12.6 MB/s eta 0:00:01\n",
      "   -- ------------------------------------- 0.8/11.5 MB 10.5 MB/s eta 0:00:02\n",
      "   ---- ----------------------------------- 1.2/11.5 MB 9.8 MB/s eta 0:00:02\n",
      "   ------ --------------------------------- 1.7/11.5 MB 10.1 MB/s eta 0:00:01\n",
      "   ------- -------------------------------- 2.2/11.5 MB 10.2 MB/s eta 0:00:01\n",
      "   --------- ------------------------------ 2.7/11.5 MB 10.3 MB/s eta 0:00:01\n",
      "   ----------- ---------------------------- 3.2/11.5 MB 10.2 MB/s eta 0:00:01\n",
      "   ------------ --------------------------- 3.6/11.5 MB 10.1 MB/s eta 0:00:01\n",
      "   -------------- ------------------------- 4.1/11.5 MB 10.1 MB/s eta 0:00:01\n",
      "   ---------------- ----------------------- 4.6/11.5 MB 10.2 MB/s eta 0:00:01\n",
      "   ----------------- ---------------------- 5.1/11.5 MB 10.2 MB/s eta 0:00:01\n",
      "   ------------------- -------------------- 5.6/11.5 MB 10.3 MB/s eta 0:00:01\n",
      "   --------------------- ------------------ 6.2/11.5 MB 10.4 MB/s eta 0:00:01\n",
      "   ---------------------- ----------------- 6.6/11.5 MB 10.3 MB/s eta 0:00:01\n",
      "   ------------------------ --------------- 7.0/11.5 MB 10.2 MB/s eta 0:00:01\n",
      "   -------------------------- ------------- 7.5/11.5 MB 10.2 MB/s eta 0:00:01\n",
      "   --------------------------- ------------ 8.0/11.5 MB 10.3 MB/s eta 0:00:01\n",
      "   ----------------------------- ---------- 8.5/11.5 MB 10.3 MB/s eta 0:00:01\n",
      "   ------------------------------- -------- 9.0/11.5 MB 10.3 MB/s eta 0:00:01\n",
      "   --------------------------------- ------ 9.5/11.5 MB 10.3 MB/s eta 0:00:01\n",
      "   ---------------------------------- ----- 10.1/11.5 MB 10.4 MB/s eta 0:00:01\n",
      "   ------------------------------------ --- 10.6/11.5 MB 10.4 MB/s eta 0:00:01\n",
      "   -------------------------------------- - 11.1/11.5 MB 10.6 MB/s eta 0:00:01\n",
      "   ---------------------------------------  11.5/11.5 MB 10.7 MB/s eta 0:00:01\n",
      "   ---------------------------------------- 11.5/11.5 MB 10.6 MB/s eta 0:00:00\n",
      "Downloading anyio-4.6.2.post1-py3-none-any.whl (90 kB)\n",
      "   ---------------------------------------- 0.0/90.4 kB ? eta -:--:--\n",
      "   ---------------------------------------- 90.4/90.4 kB ? eta 0:00:00\n",
      "Using cached distro-1.9.0-py3-none-any.whl (20 kB)\n",
      "Using cached httpx-0.27.2-py3-none-any.whl (76 kB)\n",
      "Downloading httpcore-1.0.7-py3-none-any.whl (78 kB)\n",
      "   ---------------------------------------- 0.0/78.6 kB ? eta -:--:--\n",
      "   ---------------------------------------- 78.6/78.6 kB 4.3 MB/s eta 0:00:00\n",
      "Downloading jiter-0.7.1-cp312-none-win_amd64.whl (202 kB)\n",
      "   ---------------------------------------- 0.0/202.8 kB ? eta -:--:--\n",
      "   --------------------------------------- 202.8/202.8 kB 12.0 MB/s eta 0:00:00\n",
      "Downloading pydantic-2.10.1-py3-none-any.whl (455 kB)\n",
      "   ---------------------------------------- 0.0/455.3 kB ? eta -:--:--\n",
      "   --------------------------------------- 455.3/455.3 kB 14.4 MB/s eta 0:00:00\n",
      "Downloading pydantic_core-2.27.1-cp312-none-win_amd64.whl (2.0 MB)\n",
      "   ---------------------------------------- 0.0/2.0 MB ? eta -:--:--\n",
      "   ---------- ----------------------------- 0.5/2.0 MB 15.9 MB/s eta 0:00:01\n",
      "   ------------------- -------------------- 1.0/2.0 MB 12.2 MB/s eta 0:00:01\n",
      "   ------------------------------ --------- 1.5/2.0 MB 12.1 MB/s eta 0:00:01\n",
      "   ---------------------------------------- 2.0/2.0 MB 11.5 MB/s eta 0:00:00\n",
      "Using cached pytz-2024.2-py2.py3-none-any.whl (508 kB)\n",
      "Using cached sniffio-1.3.1-py3-none-any.whl (10 kB)\n",
      "Downloading tqdm-4.67.0-py3-none-any.whl (78 kB)\n",
      "   ---------------------------------------- 0.0/78.6 kB ? eta -:--:--\n",
      "   ---------------------------------------- 78.6/78.6 kB ? eta 0:00:00\n",
      "Using cached tzdata-2024.2-py2.py3-none-any.whl (346 kB)\n",
      "Using cached annotated_types-0.7.0-py3-none-any.whl (13 kB)\n",
      "Using cached idna-3.10-py3-none-any.whl (70 kB)\n",
      "Using cached certifi-2024.8.30-py3-none-any.whl (167 kB)\n",
      "Using cached h11-0.14.0-py3-none-any.whl (58 kB)\n",
      "Installing collected packages: pytz, tzdata, tqdm, sniffio, pydantic-core, numpy, jiter, idna, h11, distro, certifi, annotated-types, pydantic, pandas, httpcore, anyio, httpx, openai, anthropic, CASSIA\n",
      "Successfully installed CASSIA-0.1 annotated-types-0.7.0 anthropic-0.39.0 anyio-4.6.2.post1 certifi-2024.8.30 distro-1.9.0 h11-0.14.0 httpcore-1.0.7 httpx-0.27.2 idna-3.10 jiter-0.7.1 numpy-2.1.3 openai-1.55.0 pandas-2.2.3 pydantic-2.10.1 pydantic-core-2.27.1 pytz-2024.2 sniffio-1.3.1 tqdm-4.67.0 tzdata-2024.2\n"
     ]
    },
    {
     "name": "stderr",
     "output_type": "stream",
     "text": [
      "\n",
      "[notice] A new release of pip is available: 23.2.1 -> 24.3.1\n",
      "[notice] To update, run: c:\\Users\\ellio\\OneDrive - UW-Madison\\RAN\\liana\\liana_env\\Scripts\\python.exe -m pip install --upgrade pip\n"
     ]
    }
   ],
   "source": [
    "!pip install CASSIA\n",
    "\n",
    "python setup.py sdist bdist_wheel"
   ]
  },
  {
   "cell_type": "code",
   "execution_count": 4,
   "metadata": {},
   "outputs": [
    {
     "name": "stderr",
     "output_type": "stream",
     "text": [
      "'ls' is not recognized as an internal or external command,\n",
      "operable program or batch file.\n"
     ]
    }
   ],
   "source": [
    "!pip install C:/Users/ellio/OneDrive - UW-Madison/github/CASSIA/CASSIA_python/dist/CASSIA-0.1.1-py3-none-any.whl\n"
   ]
  },
  {
   "cell_type": "code",
   "execution_count": 9,
   "metadata": {},
   "outputs": [
    {
     "name": "stdout",
     "output_type": "stream",
     "text": [
      "['d:\\\\anaconda3\\\\envs\\\\pyautogen', 'd:\\\\anaconda3\\\\envs\\\\pyautogen\\\\lib\\\\site-packages']\n"
     ]
    }
   ],
   "source": [
    "import site\n",
    "print(site.getsitepackages())"
   ]
  },
  {
   "cell_type": "code",
   "execution_count": 7,
   "metadata": {},
   "outputs": [
    {
     "data": {
      "text/plain": [
       "['__builtins__',\n",
       " '__cached__',\n",
       " '__doc__',\n",
       " '__file__',\n",
       " '__loader__',\n",
       " '__name__',\n",
       " '__package__',\n",
       " '__path__',\n",
       " '__spec__',\n",
       " 'main',\n",
       " 'runCASSIA']"
      ]
     },
     "execution_count": 7,
     "metadata": {},
     "output_type": "execute_result"
    }
   ],
   "source": [
    "dir(CASSIA)\n"
   ]
  },
  {
   "cell_type": "code",
   "execution_count": 6,
   "metadata": {},
   "outputs": [
    {
     "ename": "ImportError",
     "evalue": "cannot import name 'run_cell_type_analysis_wrapper' from 'CASSIA' (d:\\anaconda3\\envs\\CASSIA_standard\\Lib\\site-packages\\CASSIA\\__init__.py)",
     "output_type": "error",
     "traceback": [
      "\u001b[1;31m---------------------------------------------------------------------------\u001b[0m",
      "\u001b[1;31mImportError\u001b[0m                               Traceback (most recent call last)",
      "Cell \u001b[1;32mIn[6], line 1\u001b[0m\n\u001b[1;32m----> 1\u001b[0m \u001b[38;5;28;01mfrom\u001b[39;00m \u001b[38;5;21;01mCASSIA\u001b[39;00m \u001b[38;5;28;01mimport\u001b[39;00m run_cell_type_analysis_wrapper\n",
      "\u001b[1;31mImportError\u001b[0m: cannot import name 'run_cell_type_analysis_wrapper' from 'CASSIA' (d:\\anaconda3\\envs\\CASSIA_standard\\Lib\\site-packages\\CASSIA\\__init__.py)"
     ]
    }
   ],
   "source": [
    "from CASSIA import run_cell_type_analysis_wrapper"
   ]
  },
  {
   "cell_type": "code",
   "execution_count": 5,
   "metadata": {},
   "outputs": [
    {
     "ename": "AttributeError",
     "evalue": "module 'CASSIA' has no attribute 'run_cell_type_analysis_wrapper'",
     "output_type": "error",
     "traceback": [
      "\u001b[1;31m---------------------------------------------------------------------------\u001b[0m",
      "\u001b[1;31mAttributeError\u001b[0m                            Traceback (most recent call last)",
      "Cell \u001b[1;32mIn[5], line 1\u001b[0m\n\u001b[1;32m----> 1\u001b[0m result \u001b[38;5;241m=\u001b[39m \u001b[43mCASSIA\u001b[49m\u001b[38;5;241;43m.\u001b[39;49m\u001b[43mrun_cell_type_analysis_wrapper\u001b[49m(\n\u001b[0;32m      2\u001b[0m     model\u001b[38;5;241m=\u001b[39m\u001b[38;5;124m\"\u001b[39m\u001b[38;5;124mgpt-4o\u001b[39m\u001b[38;5;124m\"\u001b[39m,\n\u001b[0;32m      3\u001b[0m     temperature\u001b[38;5;241m=\u001b[39m\u001b[38;5;241m0\u001b[39m,\n\u001b[0;32m      4\u001b[0m     marker_list\u001b[38;5;241m=\u001b[39m[\u001b[38;5;124m\"\u001b[39m\u001b[38;5;124mCD3D\u001b[39m\u001b[38;5;124m\"\u001b[39m, \u001b[38;5;124m\"\u001b[39m\u001b[38;5;124mCD4\u001b[39m\u001b[38;5;124m\"\u001b[39m, \u001b[38;5;124m\"\u001b[39m\u001b[38;5;124mIL7R\u001b[39m\u001b[38;5;124m\"\u001b[39m],\n\u001b[0;32m      5\u001b[0m     tissue\u001b[38;5;241m=\u001b[39m\u001b[38;5;124m\"\u001b[39m\u001b[38;5;124mPBMC\u001b[39m\u001b[38;5;124m\"\u001b[39m,\n\u001b[0;32m      6\u001b[0m     species\u001b[38;5;241m=\u001b[39m\u001b[38;5;124m\"\u001b[39m\u001b[38;5;124mhuman\u001b[39m\u001b[38;5;124m\"\u001b[39m,\n\u001b[0;32m      7\u001b[0m     provider\u001b[38;5;241m=\u001b[39m\u001b[38;5;124m\"\u001b[39m\u001b[38;5;124mopenai\u001b[39m\u001b[38;5;124m\"\u001b[39m\n\u001b[0;32m      8\u001b[0m )\n",
      "\u001b[1;31mAttributeError\u001b[0m: module 'CASSIA' has no attribute 'run_cell_type_analysis_wrapper'"
     ]
    }
   ],
   "source": [
    "result = CASSIA.run_cell_type_analysis_wrapper(\n",
    "    model=\"gpt-4o\",\n",
    "    temperature=0,\n",
    "    marker_list=[\"CD3D\", \"CD4\", \"IL7R\"],\n",
    "    tissue=\"PBMC\",\n",
    "    species=\"human\",\n",
    "    provider=\"openai\"\n",
    ")"
   ]
  },
  {
   "cell_type": "code",
   "execution_count": 7,
   "metadata": {},
   "outputs": [
    {
     "name": "stdout",
     "output_type": "stream",
     "text": [
      "Package           Version\n",
      "----------------- -----------\n",
      "annotated-types   0.7.0\n",
      "anthropic         0.39.0\n",
      "anyio             4.6.2.post1\n",
      "asttokens         2.4.1\n",
      "CASSIA            0.1\n",
      "certifi           2024.8.30\n",
      "colorama          0.4.6\n",
      "comm              0.2.2\n",
      "debugpy           1.8.7\n",
      "decorator         5.1.1\n",
      "distro            1.9.0\n",
      "executing         2.1.0\n",
      "h11               0.14.0\n",
      "httpcore          1.0.7\n",
      "httpx             0.27.2\n",
      "idna              3.10\n",
      "ipykernel         6.29.5\n",
      "ipython           8.28.0\n",
      "jedi              0.19.1\n",
      "Jinja2            3.1.4\n",
      "jiter             0.7.1\n",
      "jupyter_client    8.6.3\n",
      "jupyter_core      5.7.2\n",
      "MarkupSafe        3.0.2\n",
      "matplotlib-inline 0.1.7\n",
      "nest-asyncio      1.6.0\n",
      "numpy             2.1.3\n",
      "openai            1.55.0\n",
      "packaging         24.1\n",
      "pandas            2.2.3\n",
      "parso             0.8.4\n",
      "pip               23.2.1\n",
      "platformdirs      4.3.6\n",
      "prompt_toolkit    3.0.48\n",
      "psutil            6.1.0\n",
      "pure_eval         0.2.3\n",
      "pydantic          2.10.1\n",
      "pydantic_core     2.27.1\n",
      "Pygments          2.18.0\n",
      "python-dateutil   2.9.0.post0\n",
      "pytz              2024.2\n",
      "pywin32           308\n",
      "pyzmq             26.2.0\n",
      "setuptools        65.5.0\n",
      "six               1.16.0\n",
      "sniffio           1.3.1\n",
      "stack-data        0.6.3\n",
      "tornado           6.4.1\n",
      "tqdm              4.67.0\n",
      "traitlets         5.14.3\n",
      "typing_extensions 4.12.2\n",
      "tzdata            2024.2\n",
      "wcwidth           0.2.13\n"
     ]
    },
    {
     "name": "stderr",
     "output_type": "stream",
     "text": [
      "\n",
      "[notice] A new release of pip is available: 23.2.1 -> 24.3.1\n",
      "[notice] To update, run: c:\\Users\\ellio\\OneDrive - UW-Madison\\RAN\\liana\\liana_env\\Scripts\\python.exe -m pip install --upgrade pip\n"
     ]
    }
   ],
   "source": [
    "!pip list"
   ]
  }
 ],
 "metadata": {
  "kernelspec": {
   "display_name": "Python 3",
   "language": "python",
   "name": "python3"
  },
  "language_info": {
   "codemirror_mode": {
    "name": "ipython",
    "version": 3
   },
   "file_extension": ".py",
   "mimetype": "text/x-python",
   "name": "python",
   "nbconvert_exporter": "python",
   "pygments_lexer": "ipython3",
   "version": "3.13.0"
  }
 },
 "nbformat": 4,
 "nbformat_minor": 2
}
