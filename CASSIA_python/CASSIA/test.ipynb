{
 "cells": [
  {
   "cell_type": "markdown",
   "metadata": {},
   "source": [
    "# CASSIA Analysis Tutorial\n",
    "\n",
    "This Python Notebook demonstrates a complete workflow using CASSIA for cell type annotation of single-cell RNA sequencing data. We'll analyze an intestinal cell dataset containing six distinct populations:\n",
    "\n",
    "1.monocyte\n",
    "2.plasma cells\n",
    "3.cd8-positive, alpha-beta t cell\n",
    "4.transit amplifying cell of large intestine\n",
    "5.intestinal enteroendocrine cell\n",
    "6.intestinal crypt stem cell"
   ]
  },
  {
   "cell_type": "markdown",
   "metadata": {},
   "source": [
    "## Setup and Environment Preparation\n",
    "\n",
    "First, let's install and import the required packages:"
   ]
  },
  {
   "cell_type": "code",
   "execution_count": 1,
   "metadata": {},
   "outputs": [
    {
     "name": "stdout",
     "output_type": "stream",
     "text": [
      "Collecting CASSIA==0.1.7\n",
      "  Obtaining dependency information for CASSIA==0.1.7 from https://files.pythonhosted.org/packages/96/1f/bb55e307a91d58477954d8786da585b9b4c4952bb3024a04cfe9461b9be9/CASSIA-0.1.7-py3-none-any.whl.metadata\n",
      "  Downloading CASSIA-0.1.7-py3-none-any.whl.metadata (4.8 kB)\n",
      "Requirement already satisfied: numpy in c:\\users\\ellio\\onedrive - uw-madison\\ran\\liana\\liana_env\\lib\\site-packages (from CASSIA==0.1.7) (1.26.4)\n",
      "Requirement already satisfied: pandas in c:\\users\\ellio\\onedrive - uw-madison\\ran\\liana\\liana_env\\lib\\site-packages (from CASSIA==0.1.7) (2.2.3)\n",
      "Requirement already satisfied: openai>=1.0.0 in c:\\users\\ellio\\onedrive - uw-madison\\ran\\liana\\liana_env\\lib\\site-packages (from CASSIA==0.1.7) (1.55.0)\n",
      "Requirement already satisfied: anthropic>=0.3.0 in c:\\users\\ellio\\onedrive - uw-madison\\ran\\liana\\liana_env\\lib\\site-packages (from CASSIA==0.1.7) (0.39.0)\n",
      "Requirement already satisfied: requests>=2.25.0 in c:\\users\\ellio\\onedrive - uw-madison\\ran\\liana\\liana_env\\lib\\site-packages (from CASSIA==0.1.7) (2.32.3)\n",
      "Requirement already satisfied: anyio<5,>=3.5.0 in c:\\users\\ellio\\onedrive - uw-madison\\ran\\liana\\liana_env\\lib\\site-packages (from anthropic>=0.3.0->CASSIA==0.1.7) (4.6.2.post1)\n",
      "Requirement already satisfied: distro<2,>=1.7.0 in c:\\users\\ellio\\onedrive - uw-madison\\ran\\liana\\liana_env\\lib\\site-packages (from anthropic>=0.3.0->CASSIA==0.1.7) (1.9.0)\n",
      "Requirement already satisfied: httpx<1,>=0.23.0 in c:\\users\\ellio\\onedrive - uw-madison\\ran\\liana\\liana_env\\lib\\site-packages (from anthropic>=0.3.0->CASSIA==0.1.7) (0.27.2)\n",
      "Requirement already satisfied: jiter<1,>=0.4.0 in c:\\users\\ellio\\onedrive - uw-madison\\ran\\liana\\liana_env\\lib\\site-packages (from anthropic>=0.3.0->CASSIA==0.1.7) (0.7.1)\n",
      "Requirement already satisfied: pydantic<3,>=1.9.0 in c:\\users\\ellio\\onedrive - uw-madison\\ran\\liana\\liana_env\\lib\\site-packages (from anthropic>=0.3.0->CASSIA==0.1.7) (2.10.1)\n",
      "Requirement already satisfied: sniffio in c:\\users\\ellio\\onedrive - uw-madison\\ran\\liana\\liana_env\\lib\\site-packages (from anthropic>=0.3.0->CASSIA==0.1.7) (1.3.1)\n",
      "Requirement already satisfied: typing-extensions<5,>=4.7 in c:\\users\\ellio\\onedrive - uw-madison\\ran\\liana\\liana_env\\lib\\site-packages (from anthropic>=0.3.0->CASSIA==0.1.7) (4.12.2)\n",
      "Requirement already satisfied: tqdm>4 in c:\\users\\ellio\\onedrive - uw-madison\\ran\\liana\\liana_env\\lib\\site-packages (from openai>=1.0.0->CASSIA==0.1.7) (4.67.0)\n",
      "Requirement already satisfied: charset-normalizer<4,>=2 in c:\\users\\ellio\\onedrive - uw-madison\\ran\\liana\\liana_env\\lib\\site-packages (from requests>=2.25.0->CASSIA==0.1.7) (3.4.0)\n",
      "Requirement already satisfied: idna<4,>=2.5 in c:\\users\\ellio\\onedrive - uw-madison\\ran\\liana\\liana_env\\lib\\site-packages (from requests>=2.25.0->CASSIA==0.1.7) (3.10)\n",
      "Requirement already satisfied: urllib3<3,>=1.21.1 in c:\\users\\ellio\\onedrive - uw-madison\\ran\\liana\\liana_env\\lib\\site-packages (from requests>=2.25.0->CASSIA==0.1.7) (2.2.3)\n",
      "Requirement already satisfied: certifi>=2017.4.17 in c:\\users\\ellio\\onedrive - uw-madison\\ran\\liana\\liana_env\\lib\\site-packages (from requests>=2.25.0->CASSIA==0.1.7) (2024.8.30)\n",
      "Requirement already satisfied: python-dateutil>=2.8.2 in c:\\users\\ellio\\onedrive - uw-madison\\ran\\liana\\liana_env\\lib\\site-packages (from pandas->CASSIA==0.1.7) (2.9.0.post0)\n",
      "Requirement already satisfied: pytz>=2020.1 in c:\\users\\ellio\\onedrive - uw-madison\\ran\\liana\\liana_env\\lib\\site-packages (from pandas->CASSIA==0.1.7) (2024.2)\n",
      "Requirement already satisfied: tzdata>=2022.7 in c:\\users\\ellio\\onedrive - uw-madison\\ran\\liana\\liana_env\\lib\\site-packages (from pandas->CASSIA==0.1.7) (2024.2)\n",
      "Requirement already satisfied: httpcore==1.* in c:\\users\\ellio\\onedrive - uw-madison\\ran\\liana\\liana_env\\lib\\site-packages (from httpx<1,>=0.23.0->anthropic>=0.3.0->CASSIA==0.1.7) (1.0.7)\n",
      "Requirement already satisfied: h11<0.15,>=0.13 in c:\\users\\ellio\\onedrive - uw-madison\\ran\\liana\\liana_env\\lib\\site-packages (from httpcore==1.*->httpx<1,>=0.23.0->anthropic>=0.3.0->CASSIA==0.1.7) (0.14.0)\n",
      "Requirement already satisfied: annotated-types>=0.6.0 in c:\\users\\ellio\\onedrive - uw-madison\\ran\\liana\\liana_env\\lib\\site-packages (from pydantic<3,>=1.9.0->anthropic>=0.3.0->CASSIA==0.1.7) (0.7.0)\n",
      "Requirement already satisfied: pydantic-core==2.27.1 in c:\\users\\ellio\\onedrive - uw-madison\\ran\\liana\\liana_env\\lib\\site-packages (from pydantic<3,>=1.9.0->anthropic>=0.3.0->CASSIA==0.1.7) (2.27.1)\n",
      "Requirement already satisfied: six>=1.5 in c:\\users\\ellio\\onedrive - uw-madison\\ran\\liana\\liana_env\\lib\\site-packages (from python-dateutil>=2.8.2->pandas->CASSIA==0.1.7) (1.16.0)\n",
      "Requirement already satisfied: colorama in c:\\users\\ellio\\onedrive - uw-madison\\ran\\liana\\liana_env\\lib\\site-packages (from tqdm>4->openai>=1.0.0->CASSIA==0.1.7) (0.4.6)\n",
      "Downloading CASSIA-0.1.7-py3-none-any.whl (40 kB)\n",
      "   ---------------------------------------- 0.0/40.6 kB ? eta -:--:--\n",
      "   -------------------- ------------------- 20.5/40.6 kB 682.7 kB/s eta 0:00:01\n",
      "   ---------------------------------------- 40.6/40.6 kB 645.0 kB/s eta 0:00:00\n",
      "Installing collected packages: CASSIA\n",
      "  Attempting uninstall: CASSIA\n",
      "    Found existing installation: CASSIA 0.1\n",
      "    Uninstalling CASSIA-0.1:\n",
      "      Successfully uninstalled CASSIA-0.1\n",
      "Successfully installed CASSIA-0.1.7\n"
     ]
    },
    {
     "name": "stderr",
     "output_type": "stream",
     "text": [
      "\n",
      "[notice] A new release of pip is available: 23.2.1 -> 24.3.1\n",
      "[notice] To update, run: c:\\Users\\ellio\\OneDrive - UW-Madison\\RAN\\liana\\liana_env\\Scripts\\python.exe -m pip install --upgrade pip\n"
     ]
    }
   ],
   "source": [
    "!pip install CASSIA==0.1.7"
   ]
  },
  {
   "cell_type": "code",
   "execution_count": null,
   "metadata": {},
   "outputs": [],
   "source": [
    "pip install --target=\"D:\\anaconda3\\envs\\cassia_env\\Lib\\site-packages\" CASSIA==0.1.7 --no-cache-dir"
   ]
  },
  {
   "cell_type": "code",
   "execution_count": 2,
   "metadata": {},
   "outputs": [
    {
     "name": "stdout",
     "output_type": "stream",
     "text": [
      "All attributes and methods:\n",
      "['Anthropic', 'Counter', 'OpenAI', 'Path', 'ThreadPoolExecutor', 'agent_judgement', 'agent_judgement_claude', 'agent_judgement_single', 'agent_unification', 'agent_unification_claude', 'agent_unification_deplural', 'annotate_subclusters', 'anthropic', 'as_completed', 'check_formatted_output', 'claude_agent', 'compareCelltypes', 'consensus_similarity_flexible', 'consensus_similarity_flexible_single', 'construct_prompt_from_csv_subcluster', 'convert_markdown_to_html', 'create_and_save_results_dataframe', 'csv', 'defaultdict', 'escape', 'extract_cell_types_from_results_single', 'extract_celltypes_from_llm', 'extract_celltypes_from_llm_claude', 'extract_celltypes_from_llm_single', 'extract_score_and_reasoning', 'extract_subcluster_results_with_llm', 'extract_subcluster_results_with_llm_multiple_output', 'generate_cell_type_analysis_report', 'generate_cell_type_analysis_report_openai', 'generate_cell_type_analysis_report_openrouter', 'generate_html_report', 'generate_html_report2', 'generate_index_page', 'generate_raw_cell_annotation_report', 'generate_raw_cell_annotation_report_additional_task', 'get_cell_type_info', 'get_cell_type_info_single', 'get_marker_info', 'get_top_markers', 'glob', 'iterative_marker_analysis', 'iterative_marker_analysis_openai', 'iterative_marker_analysis_openrouter', 'iterative_marker_analysis_openrouter_additional_task', 'json', 'main_function_code', 'np', 'openai_agent', 'openrouter_agent', 'organize_batch_results', 'os', 'parse_results_to_dict', 'parse_results_to_dict_single', 'pd', 'prepare_analysis_data', 'process_cell_type_analysis_single', 'process_cell_type_results', 'process_cell_type_variance_analysis_batch', 'process_cell_type_variance_analysis_batch_claude', 'process_single_report', 'process_single_row', 'prompt_creator_score', 'prompt_hypothesis_generator3', 'prompt_hypothesis_generator3_additional_task', 'prompt_hypothesis_generator_openai', 're', 'render_report_to_html', 'report_generator', 'report_generator_additional_task', 'requests', 'rerun_formatting_agent', 'runCASSIA', 'runCASSIA_annotationboost', 'runCASSIA_annottaionboost_additional_task', 'runCASSIA_batch', 'runCASSIA_batch_n_times', 'runCASSIA_generate_score_report', 'runCASSIA_n_subcluster', 'runCASSIA_n_times', 'runCASSIA_n_times_similarity_score', 'runCASSIA_pipeline', 'runCASSIA_score_batch', 'runCASSIA_similarity_score_batch', 'runCASSIA_subclusters', 'run_cell_type_analysis', 'run_cell_type_analysis_claude', 'run_cell_type_analysis_openrouter', 'run_single_analysis', 'safe_get', 'save_html_report', 'score_annotation_batch', 'score_single_analysis', 'set_anthropic_api_key', 'set_api_key', 'set_openai_api_key', 'set_openrouter_api_key', 'split_markers', 'standardize_cell_types', 'standardize_cell_types_single', 'subcluster_agent_annotate_subcluster', 'threading', 'time', 'tools_function', 'write_csv', 'write_results_to_csv']\n"
     ]
    }
   ],
   "source": [
    "print(\"All attributes and methods:\")\n",
    "print([item for item in dir(CASSIA) if not item.startswith('_')])"
   ]
  },
  {
   "cell_type": "code",
   "execution_count": 1,
   "metadata": {},
   "outputs": [
    {
     "name": "stderr",
     "output_type": "stream",
     "text": [
      "d:\\anaconda3\\envs\\cassia_env\\lib\\site-packages\\requests\\__init__.py:86: RequestsDependencyWarning: Unable to find acceptable character detection dependency (chardet or charset_normalizer).\n",
      "  warnings.warn(\n"
     ]
    }
   ],
   "source": [
    "import CASSIA\n",
    "import pandas as pd"
   ]
  },
  {
   "cell_type": "code",
   "execution_count": 12,
   "metadata": {},
   "outputs": [],
   "source": [
    "\n",
    "# Set API keys\n",
    "CASSIA.set_api_key(\"your-openai-key\", provider=\"openai\")\n",
    "CASSIA.set_api_key(\"your-anthropic-key\", provider=\"anthropic\")\n",
    "CASSIA.set_api_key(\"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\", provider=\"openrouter\")"
   ]
  },
  {
   "cell_type": "code",
   "execution_count": 22,
   "metadata": {},
   "outputs": [
    {
     "ename": "AttributeError",
     "evalue": "module 'CASSIA' has no attribute 'loadmarker'",
     "output_type": "error",
     "traceback": [
      "\u001b[1;31m---------------------------------------------------------------------------\u001b[0m",
      "\u001b[1;31mAttributeError\u001b[0m                            Traceback (most recent call last)",
      "Cell \u001b[1;32mIn[22], line 2\u001b[0m\n\u001b[0;32m      1\u001b[0m \u001b[38;5;66;03m# Load different types of markers\u001b[39;00m\n\u001b[1;32m----> 2\u001b[0m processed_markers \u001b[38;5;241m=\u001b[39m \u001b[43mCASSIA\u001b[49m\u001b[38;5;241;43m.\u001b[39;49m\u001b[43mloadmarker\u001b[49m(\u001b[38;5;124m\"\u001b[39m\u001b[38;5;124mprocessed\u001b[39m\u001b[38;5;124m\"\u001b[39m)\n\u001b[0;32m      3\u001b[0m unprocessed_markers \u001b[38;5;241m=\u001b[39m CASSIA\u001b[38;5;241m.\u001b[39mloadmarker(\u001b[38;5;124m\"\u001b[39m\u001b[38;5;124munprocessed\u001b[39m\u001b[38;5;124m\"\u001b[39m)\n\u001b[0;32m      4\u001b[0m subcluster_results \u001b[38;5;241m=\u001b[39m CASSIA\u001b[38;5;241m.\u001b[39mloadmarker(\u001b[38;5;124m\"\u001b[39m\u001b[38;5;124msubcluster_results\u001b[39m\u001b[38;5;124m\"\u001b[39m)\n",
      "\u001b[1;31mAttributeError\u001b[0m: module 'CASSIA' has no attribute 'loadmarker'"
     ]
    }
   ],
   "source": [
    "# Load different types of markers\n",
    "processed_markers = CASSIA.loadmarker(\"processed\")\n",
    "unprocessed_markers = CASSIA.loadmarker(\"unprocessed\")\n",
    "subcluster_results = CASSIA.loadmarker(\"subcluster_results\")\n",
    "\n",
    "# List available marker sets\n",
    "available_markers = CASSIA.list_available_markers()\n",
    "print(available_markers) \n"
   ]
  },
  {
   "cell_type": "markdown",
   "metadata": {},
   "source": [
    "## Fast Mode"
   ]
  },
  {
   "cell_type": "code",
   "execution_count": 10,
   "metadata": {},
   "outputs": [
    {
     "name": "stdout",
     "output_type": "stream",
     "text": [
      "\n",
      "=== Starting cell type analysis ===\n",
      "Processing input dataframe to get top markers\n",
      "\n",
      "Analyzing B cell...\n",
      "\n",
      "Analyzing CD8 T cell...\n",
      "\n",
      "Analyzing Podocyte...\n",
      "B cell generated an exception: OpenRouter API error: 401\n",
      "CD8 T cell generated an exception: OpenRouter API error: 401\n",
      "Podocyte generated an exception: OpenRouter API error: 401\n",
      "All analyses completed. Results saved to 'FastAnalysisResults'.\n",
      "Two CSV files have been created:\n",
      "1. FastAnalysisResults_full.csv (full data)\n",
      "2. FastAnalysisResults_summary.csv (summary data)\n",
      "✓ Cell type analysis completed\n",
      "\n",
      "=== Starting scoring process ===\n",
      "Starting scoring process with 6 workers using openrouter (anthropic/claude-3.5-sonnet)...\n",
      "All rows already scored!\n",
      "✓ Scoring process completed\n",
      "\n",
      "=== Generating main reports ===\n"
     ]
    },
    {
     "ename": "NameError",
     "evalue": "name 'process_all_reports' is not defined",
     "output_type": "error",
     "traceback": [
      "\u001b[1;31m---------------------------------------------------------------------------\u001b[0m",
      "\u001b[1;31mNameError\u001b[0m                                 Traceback (most recent call last)",
      "Cell \u001b[1;32mIn[10], line 2\u001b[0m\n\u001b[0;32m      1\u001b[0m \u001b[38;5;66;03m# Run the CASSIA pipeline in fast mode\u001b[39;00m\n\u001b[1;32m----> 2\u001b[0m \u001b[43mCASSIA\u001b[49m\u001b[38;5;241;43m.\u001b[39;49m\u001b[43mrunCASSIA_pipeline\u001b[49m\u001b[43m(\u001b[49m\n\u001b[0;32m      3\u001b[0m \u001b[43m    \u001b[49m\u001b[43moutput_file_name\u001b[49m\u001b[43m \u001b[49m\u001b[38;5;241;43m=\u001b[39;49m\u001b[43m \u001b[49m\u001b[38;5;124;43m\"\u001b[39;49m\u001b[38;5;124;43mFastAnalysisResults\u001b[39;49m\u001b[38;5;124;43m\"\u001b[39;49m\u001b[43m,\u001b[49m\n\u001b[0;32m      4\u001b[0m \u001b[43m    \u001b[49m\u001b[43mtissue\u001b[49m\u001b[43m \u001b[49m\u001b[38;5;241;43m=\u001b[39;49m\u001b[43m \u001b[49m\u001b[38;5;124;43m\"\u001b[39;49m\u001b[38;5;124;43mlarge intestine\u001b[39;49m\u001b[38;5;124;43m\"\u001b[39;49m\u001b[43m,\u001b[49m\n\u001b[0;32m      5\u001b[0m \u001b[43m    \u001b[49m\u001b[43mspecies\u001b[49m\u001b[43m \u001b[49m\u001b[38;5;241;43m=\u001b[39;49m\u001b[43m \u001b[49m\u001b[38;5;124;43m\"\u001b[39;49m\u001b[38;5;124;43mhuman\u001b[39;49m\u001b[38;5;124;43m\"\u001b[39;49m\u001b[43m,\u001b[49m\n\u001b[0;32m      6\u001b[0m \u001b[43m    \u001b[49m\u001b[43mmarker_path\u001b[49m\u001b[43m \u001b[49m\u001b[38;5;241;43m=\u001b[39;49m\u001b[43m \u001b[49m\u001b[43mmarkers_unprocessed\u001b[49m\u001b[43m,\u001b[49m\n\u001b[0;32m      7\u001b[0m \u001b[43m    \u001b[49m\u001b[43mmax_workers\u001b[49m\u001b[43m \u001b[49m\u001b[38;5;241;43m=\u001b[39;49m\u001b[43m \u001b[49m\u001b[38;5;241;43m6\u001b[39;49m\u001b[43m,\u001b[49m\u001b[43m  \u001b[49m\u001b[38;5;66;43;03m# Matches the number of clusters in dataset\u001b[39;49;00m\n\u001b[0;32m      8\u001b[0m \u001b[43m    \u001b[49m\u001b[43mannotation_model\u001b[49m\u001b[43m \u001b[49m\u001b[38;5;241;43m=\u001b[39;49m\u001b[43m \u001b[49m\u001b[38;5;124;43m\"\u001b[39;49m\u001b[38;5;124;43mopenai/gpt-4o-2024-11-20\u001b[39;49m\u001b[38;5;124;43m\"\u001b[39;49m\u001b[43m,\u001b[49m\u001b[43m \u001b[49m\u001b[38;5;66;43;03m#openai/gpt-4o-2024-11-20\u001b[39;49;00m\n\u001b[0;32m      9\u001b[0m \u001b[43m    \u001b[49m\u001b[43mannotation_provider\u001b[49m\u001b[43m \u001b[49m\u001b[38;5;241;43m=\u001b[39;49m\u001b[43m \u001b[49m\u001b[38;5;124;43m\"\u001b[39;49m\u001b[38;5;124;43mopenrouter\u001b[39;49m\u001b[38;5;124;43m\"\u001b[39;49m\u001b[43m,\u001b[49m\n\u001b[0;32m     10\u001b[0m \u001b[43m    \u001b[49m\u001b[43mscore_model\u001b[49m\u001b[43m \u001b[49m\u001b[38;5;241;43m=\u001b[39;49m\u001b[43m \u001b[49m\u001b[38;5;124;43m\"\u001b[39;49m\u001b[38;5;124;43manthropic/claude-3.5-sonnet\u001b[39;49m\u001b[38;5;124;43m\"\u001b[39;49m\u001b[43m,\u001b[49m\n\u001b[0;32m     11\u001b[0m \u001b[43m    \u001b[49m\u001b[43mscore_provider\u001b[49m\u001b[43m \u001b[49m\u001b[38;5;241;43m=\u001b[39;49m\u001b[43m \u001b[49m\u001b[38;5;124;43m\"\u001b[39;49m\u001b[38;5;124;43mopenrouter\u001b[39;49m\u001b[38;5;124;43m\"\u001b[39;49m\u001b[43m,\u001b[49m\n\u001b[0;32m     12\u001b[0m \u001b[43m    \u001b[49m\u001b[43mscore_threshold\u001b[49m\u001b[43m \u001b[49m\u001b[38;5;241;43m=\u001b[39;49m\u001b[43m \u001b[49m\u001b[38;5;241;43m75\u001b[39;49m\u001b[43m,\u001b[49m\n\u001b[0;32m     13\u001b[0m \u001b[43m    \u001b[49m\u001b[43mannotationboost_model\u001b[49m\u001b[38;5;241;43m=\u001b[39;49m\u001b[38;5;124;43m\"\u001b[39;49m\u001b[38;5;124;43manthropic/claude-3.5-sonnet\u001b[39;49m\u001b[38;5;124;43m\"\u001b[39;49m\u001b[43m,\u001b[49m\n\u001b[0;32m     14\u001b[0m \u001b[43m    \u001b[49m\u001b[43mannotationboost_provider\u001b[49m\u001b[38;5;241;43m=\u001b[39;49m\u001b[38;5;124;43m\"\u001b[39;49m\u001b[38;5;124;43mopenrouter\u001b[39;49m\u001b[38;5;124;43m\"\u001b[39;49m\n\u001b[0;32m     15\u001b[0m \u001b[43m)\u001b[49m\n",
      "File \u001b[1;32md:\\anaconda3\\envs\\cassia_env\\lib\\site-packages\\CASSIA\\tools_function.py:4710\u001b[0m, in \u001b[0;36mrunCASSIA_pipeline\u001b[1;34m(output_file_name, tissue, species, marker_path, max_workers, annotation_model, annotation_provider, score_model, score_provider, annotationboost_model, annotationboost_provider, score_threshold, additional_info)\u001b[0m\n\u001b[0;32m   4708\u001b[0m \u001b[38;5;28mprint\u001b[39m(\u001b[38;5;124m\"\u001b[39m\u001b[38;5;130;01m\\n\u001b[39;00m\u001b[38;5;124m=== Generating main reports ===\u001b[39m\u001b[38;5;124m\"\u001b[39m)\n\u001b[0;32m   4709\u001b[0m \u001b[38;5;66;03m# Process reports\u001b[39;00m\n\u001b[1;32m-> 4710\u001b[0m \u001b[43mprocess_all_reports\u001b[49m(\n\u001b[0;32m   4711\u001b[0m     csv_path\u001b[38;5;241m=\u001b[39mscore_file_name,\n\u001b[0;32m   4712\u001b[0m     index_name\u001b[38;5;241m=\u001b[39mreport_name\n\u001b[0;32m   4713\u001b[0m )\n\u001b[0;32m   4714\u001b[0m \u001b[38;5;28mprint\u001b[39m(\u001b[38;5;124m\"\u001b[39m\u001b[38;5;124m✓ Main reports generated\u001b[39m\u001b[38;5;124m\"\u001b[39m)\n\u001b[0;32m   4716\u001b[0m \u001b[38;5;28mprint\u001b[39m(\u001b[38;5;124m\"\u001b[39m\u001b[38;5;130;01m\\n\u001b[39;00m\u001b[38;5;124m=== Analyzing low-scoring clusters ===\u001b[39m\u001b[38;5;124m\"\u001b[39m)\n",
      "\u001b[1;31mNameError\u001b[0m: name 'process_all_reports' is not defined"
     ]
    }
   ],
   "source": [
    "# Run the CASSIA pipeline in fast mode\n",
    "CASSIA.runCASSIA_pipeline(\n",
    "    output_file_name = \"FastAnalysisResults\",\n",
    "    tissue = \"large intestine\",\n",
    "    species = \"human\",\n",
    "    marker_path = markers_unprocessed,\n",
    "    max_workers = 6,  # Matches the number of clusters in dataset\n",
    "    annotation_model = \"openai/gpt-4o-2024-11-20\", #openai/gpt-4o-2024-11-20\n",
    "    annotation_provider = \"openrouter\",\n",
    "    score_model = \"anthropic/claude-3.5-sonnet\",\n",
    "    score_provider = \"openrouter\",\n",
    "    score_threshold = 75,\n",
    "    annotationboost_model=\"anthropic/claude-3.5-sonnet\",\n",
    "    annotationboost_provider=\"openrouter\"\n",
    ")\n"
   ]
  },
  {
   "cell_type": "markdown",
   "metadata": {},
   "source": [
    "### Step 2: Detailed Batch Analysis"
   ]
  },
  {
   "cell_type": "code",
   "execution_count": 13,
   "metadata": {},
   "outputs": [
    {
     "name": "stdout",
     "output_type": "stream",
     "text": [
      "Processing input dataframe to get top markers\n",
      "\n",
      "Analyzing B cell...\n",
      "\n",
      "Analyzing CD8 T cell...\n",
      "\n",
      "Analyzing Podocyte...\n",
      "Analysis for B cell completed.\n",
      "\n",
      "Analysis for CD8 T cell completed.\n",
      "\n",
      "Analysis for Podocyte completed.\n",
      "\n",
      "All analyses completed. Results saved to 'intestine_detailed'.\n",
      "Two CSV files have been created:\n",
      "1. intestine_detailed_full.csv (full data)\n",
      "2. intestine_detailed_summary.csv (summary data)\n"
     ]
    },
    {
     "data": {
      "text/plain": [
       "{'B cell': {'analysis_result': {'main_cell_type': 'B cells',\n",
       "   'sub_cell_types': ['Plasma cells',\n",
       "    'Memory B cells',\n",
       "    'Germinal center B cells'],\n",
       "   'possible_mixed_cell_types': [],\n",
       "   'num_markers': 50,\n",
       "   'iterations': 1,\n",
       "   'marker_list': ['IGKC',\n",
       "    'IGHG1',\n",
       "    'IGLC2',\n",
       "    'IGHG3',\n",
       "    'IGHG2',\n",
       "    'IGLC3',\n",
       "    'IGHGP',\n",
       "    'IGHM',\n",
       "    'JCHAIN',\n",
       "    'IGHG4',\n",
       "    'IGHA1',\n",
       "    'MZB1',\n",
       "    'SDF2L1',\n",
       "    'SUB1',\n",
       "    'IGHA2',\n",
       "    'HSP90B1',\n",
       "    'AL928768.3',\n",
       "    'CD27',\n",
       "    'IGHD',\n",
       "    'MANF',\n",
       "    'PIM2',\n",
       "    'SEC11C',\n",
       "    'TNFRSF13B',\n",
       "    'MS4A1',\n",
       "    'CD79A',\n",
       "    'SPCS3',\n",
       "    'ISG20',\n",
       "    'PPIB',\n",
       "    'PDIA4',\n",
       "    'CD37',\n",
       "    'VPREB3',\n",
       "    'POU2AF1',\n",
       "    'FCRLA',\n",
       "    'DDX39A',\n",
       "    'FCRL1',\n",
       "    'CD79B',\n",
       "    'CXCR5',\n",
       "    'CD19',\n",
       "    'TNFRSF13C',\n",
       "    'BLK',\n",
       "    'CCDC167',\n",
       "    'VIMP',\n",
       "    'LINC00926',\n",
       "    'P2RX5',\n",
       "    'MYDGF',\n",
       "    'FCER2',\n",
       "    'RANBP1',\n",
       "    'BANK1',\n",
       "    'SLC30A1',\n",
       "    'SMC1A']},\n",
       "  'conversation_history': [('Final Annotation Agent',\n",
       "    '### Step-by-Step Analysis:\\n\\n#### 1. **List the Key Functional Markers**\\n   - **Immunoglobulin-related genes**: \\n     - **IGKC, IGHG1, IGLC2, IGHG3, IGHG2, IGLC3, IGHGP, IGHM, JCHAIN, IGHG4, IGHA1, IGHA2, IGHD**: These genes encode immunoglobulin chains (heavy and light chains) and are highly expressed in antibody-producing cells. They are indicative of B cells, particularly plasma cells, which are responsible for antibody secretion.\\n   - **MZB1**: Encodes a protein involved in immunoglobulin folding and assembly, specifically in plasma cells.\\n   - **CD27**: A marker of memory B cells and plasma cells, involved in B cell activation and differentiation.\\n   - **TNFRSF13B (TACI)** and **TNFRSF13C (BAFF-R)**: Receptors critical for B cell survival, differentiation, and antibody production.\\n   - **CD79A and CD79B**: Components of the B cell receptor (BCR) complex, essential for B cell activation.\\n   - **CXCR5**: A chemokine receptor expressed on B cells, particularly germinal center B cells, and T follicular helper cells.\\n   - **POU2AF1 (OCA-B)**: A transcriptional coactivator essential for B cell development and germinal center formation.\\n   - **FCRLA and FCRL1**: Fc receptor-like proteins expressed in B cells, particularly in plasma cells and memory B cells.\\n   - **MS4A1 (CD20)**: A canonical marker of mature B cells, but not expressed in plasma cells.\\n   - **BLK**: A tyrosine kinase involved in B cell receptor signaling.\\n   - **BANK1**: A scaffold protein involved in B cell receptor signaling.\\n\\n#### 2. **List the Key Cell Type Markers**\\n   - **Plasma cell markers**:\\n     - **IGKC, IGHG1, IGHG2, IGHG3, IGHG4, IGHA1, IGHA2, IGHM, JCHAIN, MZB1**: These are hallmark markers of plasma cells, which are terminally differentiated B cells specialized in antibody secretion.\\n   - **Memory B cell markers**:\\n     - **CD27, TNFRSF13B, TNFRSF13C, CD79A, CD79B, CXCR5**: These markers are associated with memory B cells, which are long-lived and capable of rapid antibody production upon antigen re-exposure.\\n   - **Germinal center B cell markers**:\\n     - **POU2AF1, CXCR5, CD79A, CD79B**: These markers are indicative of germinal center B cells, which are actively undergoing somatic hypermutation and class switching.\\n   - **Mature B cell markers**:\\n     - **MS4A1 (CD20), CD19, BLK, BANK1**: These are canonical markers of mature B cells.\\n\\n#### 3. **Cross-reference Known Databases**\\n   - Using scRNA-seq databases such as the Human Cell Atlas, PanglaoDB, and CellMarker, the expression of immunoglobulin genes (e.g., IGKC, IGHG1, IGHA1, IGHM) and plasma cell-specific markers (e.g., MZB1, JCHAIN) strongly suggests plasma cells.\\n   - Memory B cells and germinal center B cells express some overlapping markers (e.g., CD27, CXCR5, CD79A), but the high expression of immunoglobulin genes and plasma cell-specific markers (e.g., MZB1, JCHAIN) points more toward plasma cells.\\n\\n#### 4. **Determine the Most Probable General Cell Type**\\n   - Based on the expression of immunoglobulin genes, plasma cell-specific markers (e.g., MZB1, JCHAIN), and the absence of markers like MS4A1 (CD20), which are not expressed in plasma cells, the most probable general cell type is **B cells**, specifically **plasma cells**.\\n\\n#### 5. **Identify the Top 3 Most Probable Sub Cell Types**\\n   - **1. Plasma cells** (most likely):\\n     - The high expression of immunoglobulin genes (e.g., IGKC, IGHG1, IGHA1, IGHM), along with plasma cell-specific markers (e.g., MZB1, JCHAIN), strongly supports this annotation.\\n   - **2. Memory B cells** (less likely):\\n     - Markers like CD27 and TNFRSF13B are expressed in memory B cells, but the high expression of immunoglobulin genes and plasma cell-specific markers makes this less likely.\\n   - **3. Germinal center B cells** (least likely):\\n     - Markers like POU2AF1 and CXCR5 are expressed in germinal center B cells, but the absence of other germinal center-specific markers (e.g., BCL6) and the high expression of plasma cell markers make this the least likely subtype.\\n\\n   - **Most Likely Subtype**: Plasma cells.\\n\\n#### 6. **Provide a Concise Summary of Your Analysis**\\n   - The ranked marker list provided is dominated by immunoglobulin genes (e.g., IGKC, IGHG1, IGHA1, IGHM) and plasma cell-specific markers (e.g., MZB1, JCHAIN), which are hallmarks of plasma cells. Additional markers like CD27, TNFRSF13B, and TNFRSF13C support the identification of a B cell lineage. Cross-referencing with scRNA-seq databases and literature confirms that the most probable cell type is **plasma cells**, a terminally differentiated B cell subtype specialized in antibody secretion.\\n\\n**FINAL ANNOTATION COMPLETED**'),\n",
       "   ('Coupling Validator',\n",
       "    '### Validation Process:\\n\\n#### 1. **Marker Consistency**\\n- The provided marker list includes key markers such as **IGKC, IGHG1, IGHM, JCHAIN, MZB1, CD27, TNFRSF13B, TNFRSF13C, CD79A, CD79B, CXCR5, POU2AF1, FCRLA, FCRL1, MS4A1, BLK, BANK1**, which are all relevant to B cells and their subtypes (plasma cells, memory B cells, germinal center B cells, and mature B cells).\\n- The annotation result identifies **plasma cells** as the most likely subtype, supported by the high expression of plasma cell-specific markers such as **IGKC, IGHG1, IGHM, JCHAIN, MZB1**. These markers are consistent with the provided marker list and are hallmark markers of plasma cells.\\n- The absence of **MS4A1 (CD20)**, a marker of mature B cells but not plasma cells, further supports the plasma cell annotation.\\n- The ranked marker list and the annotation result are consistent with the identification of plasma cells as the most probable subtype.\\n\\n#### 2. **Mixed Cell Type Consideration**\\n- The annotation result acknowledges the presence of markers associated with other B cell subtypes, such as **memory B cells** (e.g., CD27, TNFRSF13B, TNFRSF13C) and **germinal center B cells** (e.g., POU2AF1, CXCR5). However, the high expression of plasma cell-specific markers (e.g., IGKC, IGHG1, IGHM, JCHAIN, MZB1) strongly supports plasma cells as the dominant cell type.\\n- There is no strong evidence of a mixed population based on the ranked marker list. The markers for other B cell subtypes are present but not dominant, and the annotation appropriately prioritizes plasma cells as the most likely subtype.\\n\\n#### 3. **Final Assessment**\\n- The annotation result is well-supported by the ranked marker list and provides a clear rationale for identifying plasma cells as the most probable subtype.\\n- The analysis considers alternative subtypes (memory B cells and germinal center B cells) but appropriately concludes that plasma cells are the most likely based on the dominance of plasma cell-specific markers.\\n\\n### Validation Result:\\n**VALIDATION PASSED**'),\n",
       "   ('Formatting Agent',\n",
       "    '{\\n  \"main_cell_type\": \"B cells\",\\n  \"sub_cell_types\": [\\n    \"Plasma cells\",\\n    \"Memory B cells\",\\n    \"Germinal center B cells\"\\n  ],\\n  \"possible_mixed_cell_types\": [],\\n  \"num_markers\": 50\\n}')],\n",
       "  'iterations': 1},\n",
       " 'CD8 T cell': {'analysis_result': {'main_cell_type': 'T cells',\n",
       "   'sub_cell_types': ['Tissue-Resident Memory T Cells (TRM)',\n",
       "    'Effector Memory T Cells (TEM)',\n",
       "    'Exhausted T Cells'],\n",
       "   'possible_mixed_cell_types': [],\n",
       "   'num_markers': 50,\n",
       "   'iterations': 1,\n",
       "   'marker_list': ['TRBC1',\n",
       "    'IL7R',\n",
       "    'ZNF683',\n",
       "    'GPR171',\n",
       "    'RHOH',\n",
       "    'CRTAM',\n",
       "    'PDCD1',\n",
       "    'TRAT1',\n",
       "    'CXCR6',\n",
       "    'CD96',\n",
       "    'THEMIS',\n",
       "    'ARAP2',\n",
       "    'RP11-138A9.2',\n",
       "    'BCL11B',\n",
       "    'LINC00649',\n",
       "    'SIT1',\n",
       "    'P2RY10',\n",
       "    'EMB',\n",
       "    'GRAP2',\n",
       "    'TRG-AS1',\n",
       "    'SLAMF6',\n",
       "    'PARP8',\n",
       "    'RASAL3',\n",
       "    'MMP25-AS1',\n",
       "    'CAMK4',\n",
       "    'SCML4',\n",
       "    'CCDC109B',\n",
       "    'ANXA2R',\n",
       "    'STAT4',\n",
       "    'SLA2',\n",
       "    'CD6',\n",
       "    'ITK',\n",
       "    'ARHGAP15',\n",
       "    'PTPN22',\n",
       "    'RP11-51J9.5',\n",
       "    'OXNAD1',\n",
       "    'SH2D2A',\n",
       "    'ACAP1',\n",
       "    'IL16',\n",
       "    'EVL',\n",
       "    'DEF6',\n",
       "    'PSTPIP1',\n",
       "    'AC092580.4',\n",
       "    'SUPT3H',\n",
       "    'RP11-596C23.2',\n",
       "    'LAT',\n",
       "    'TRAF3IP3',\n",
       "    'TBC1D10C',\n",
       "    'LINC00861',\n",
       "    'LYAR']},\n",
       "  'conversation_history': [('Final Annotation Agent',\n",
       "    '### Step-by-Step Analysis:\\n\\n#### 1. **List the Key Functional Markers**\\n   - **TRBC1**: T-cell receptor beta constant 1, a key component of the T-cell receptor (TCR) complex, essential for T-cell activation and signaling.\\n   - **IL7R**: Interleukin-7 receptor, critical for T-cell development, survival, and homeostasis.\\n   - **ZNF683**: Also known as Hobit, a transcription factor associated with tissue-resident memory T cells (TRM).\\n   - **PDCD1**: Programmed cell death protein 1 (PD-1), a marker of T-cell exhaustion and immune regulation.\\n   - **CXCR6**: A chemokine receptor associated with tissue-resident T cells and effector memory T cells.\\n   - **BCL11B**: A transcription factor critical for T-cell lineage commitment and development.\\n   - **STAT4**: A transcription factor involved in T-helper 1 (Th1) cell differentiation and cytokine signaling.\\n   - **ITK**: IL-2-inducible T-cell kinase, important for TCR signaling and T-cell activation.\\n   - **LAT**: Linker for activation of T cells, a key adaptor protein in TCR signaling.\\n   - **SLAMF6**: A member of the SLAM family, involved in T-cell activation and immune regulation.\\n\\n   These markers collectively indicate a strong association with T-cell function, particularly TCR signaling, immune regulation, and tissue residency.\\n\\n#### 2. **List the Key Cell Type Markers**\\n   - **TRBC1, IL7R, PDCD1, CXCR6, BCL11B**: These are canonical markers of T cells, specifically subsets such as effector, memory, or tissue-resident T cells.\\n   - **ZNF683**: A marker of tissue-resident memory T cells (TRM), particularly in non-lymphoid tissues like the intestine.\\n   - **CD96**: Expressed on T cells and natural killer (NK) cells, involved in immune regulation.\\n   - **SIT1, THEMIS**: Associated with T-cell signaling and development.\\n   - **P2RY10, RHOH**: Involved in T-cell signaling and migration.\\n   - **DEF6, SH2D2A**: Regulators of T-cell activation and cytoskeletal dynamics.\\n   - **STAT4, ITK, LAT**: Markers of T-cell activation and differentiation.\\n\\n   These markers strongly suggest that the cluster represents a T-cell population, with a potential bias toward tissue-resident or memory subsets.\\n\\n#### 3. **Cross-reference Known Databases**\\n   - Using scRNA-seq databases such as the Human Cell Atlas, PanglaoDB, and literature on intestinal immune cells:\\n     - **TRBC1, IL7R, ZNF683, CXCR6** are highly expressed in tissue-resident memory T cells (TRM) in the intestine.\\n     - **PDCD1** is expressed in exhausted or regulatory T cells, often in chronic inflammation or tumor microenvironments.\\n     - **BCL11B** is a universal marker of T cells, particularly in development and lineage commitment.\\n     - **STAT4, ITK, LAT** are associated with activated T cells, particularly Th1 or cytotoxic subsets.\\n\\n   These markers align with a T-cell population, likely tissue-resident memory T cells (TRM) or a related subset.\\n\\n#### 4. **Determine the Most Probable General Cell Type**\\n   - Based on the expression of T-cell-specific markers (TRBC1, IL7R, ZNF683, PDCD1, CXCR6, BCL11B), the most probable general cell type is **T cells**.\\n\\n#### 5. **Identify the Top 3 Most Probable Sub Cell Types**\\n   - **1. Tissue-Resident Memory T Cells (TRM)**:\\n     - Markers: ZNF683, CXCR6, IL7R, PDCD1.\\n     - These cells are known to reside in non-lymphoid tissues like the intestine and play a role in local immune surveillance.\\n   - **2. Effector Memory T Cells (TEM)**:\\n     - Markers: IL7R, CXCR6, STAT4, ITK.\\n     - These cells are highly mobile and involved in rapid immune responses.\\n   - **3. Exhausted T Cells**:\\n     - Markers: PDCD1, SLAMF6, DEF6.\\n     - These cells are often found in chronic inflammation or tumor microenvironments and exhibit reduced effector function.\\n\\n   **Most Likely Subtype**: Tissue-Resident Memory T Cells (TRM), based on the strong expression of ZNF683, CXCR6, and IL7R, which are hallmark markers of this subset in the intestine.\\n\\n#### 6. **Provide a Concise Summary of Your Analysis**\\n   - The cluster of cells is most likely a T-cell population, specifically tissue-resident memory T cells (TRM). This conclusion is supported by the expression of key markers such as ZNF683, CXCR6, and IL7R, which are characteristic of TRM cells in the intestine. These cells play a critical role in local immune surveillance and maintaining tissue homeostasis.\\n\\n**FINAL ANNOTATION COMPLETED**'),\n",
       "   ('Coupling Validator',\n",
       "    '### Validation Process:\\n\\n#### 1. **Marker Consistency**\\n   - The proposed annotation identifies the cluster as **Tissue-Resident Memory T Cells (TRM)**, a subset of T cells.\\n   - The markers used in the annotation (e.g., **TRBC1, IL7R, ZNF683, PDCD1, CXCR6, BCL11B, STAT4, ITK, LAT, SLAMF6**) are all present in the provided marker list.\\n   - The markers are consistent with the identified cell type. Specifically:\\n     - **ZNF683** and **CXCR6** are hallmark markers of TRM cells.\\n     - **IL7R** and **PDCD1** are associated with T-cell subsets, including memory and exhausted T cells.\\n     - **BCL11B** is a universal T-cell marker.\\n     - **STAT4, ITK, LAT** are involved in T-cell activation and differentiation.\\n   - No markers used in the annotation are inconsistent with the T-cell lineage or the TRM subset.\\n\\n#### 2. **Mixed Cell Type Consideration**\\n   - The annotation considers potential subtypes of T cells, including **Tissue-Resident Memory T Cells (TRM)**, **Effector Memory T Cells (TEM)**, and **Exhausted T Cells**.\\n   - The markers strongly support the TRM subtype, particularly **ZNF683, CXCR6, and IL7R**, which are hallmark markers of TRM cells.\\n   - While some markers (e.g., **PDCD1**) could indicate exhausted T cells, the overall marker profile does not strongly support a mixed population. Instead, the markers align more closely with a TRM population.\\n   - There is no strong evidence of multiple distinct cell types within the cluster based on the provided marker list and analysis.\\n\\n#### 3. **Final Assessment**\\n   - The annotation is well-supported by the marker list and the analysis provided.\\n   - The markers used are consistent with the identified cell type (T cells) and the proposed subtype (Tissue-Resident Memory T Cells, TRM).\\n   - There is no indication of a mixed cell population that would require further investigation.\\n\\n---\\n\\n### Validation Result:\\n**VALIDATION PASSED**'),\n",
       "   ('Formatting Agent',\n",
       "    '{\\n  \"main_cell_type\": \"T cells\",\\n  \"sub_cell_types\": [\\n    \"Tissue-Resident Memory T Cells (TRM)\",\\n    \"Effector Memory T Cells (TEM)\",\\n    \"Exhausted T Cells\"\\n  ],\\n  \"possible_mixed_cell_types\": [],\\n  \"num_markers\": 50\\n}')],\n",
       "  'iterations': 1},\n",
       " 'Podocyte': {'analysis_result': {'main_cell_type': 'Podocytes',\n",
       "   'sub_cell_types': ['Mature Podocytes',\n",
       "    'Immature Podocytes',\n",
       "    'Injured Podocytes'],\n",
       "   'possible_mixed_cell_types': [],\n",
       "   'num_markers': 50,\n",
       "   'iterations': 1,\n",
       "   'marker_list': ['MAFB',\n",
       "    'PODXL',\n",
       "    'CLIC5',\n",
       "    'IGFBP1',\n",
       "    'BST2',\n",
       "    'MME',\n",
       "    'NPHS2',\n",
       "    'HTRA1',\n",
       "    'PCOLCE2',\n",
       "    'AIF1',\n",
       "    'GADD45A',\n",
       "    'PTGDS',\n",
       "    'TCF21',\n",
       "    'RP11-550H2.2',\n",
       "    'THSD7A',\n",
       "    'PTPRO',\n",
       "    'PLA2R1',\n",
       "    'IGFBP2',\n",
       "    'IQGAP2',\n",
       "    'TNNT2',\n",
       "    'WT1',\n",
       "    'CITED2',\n",
       "    'COL4A3',\n",
       "    'BCAM',\n",
       "    'SPARC',\n",
       "    'C14orf37',\n",
       "    'TGFBR3',\n",
       "    'CHI3L1',\n",
       "    'SRGAP2C',\n",
       "    'MXRA8',\n",
       "    'VEGFA',\n",
       "    'DACH1',\n",
       "    'TJP1',\n",
       "    'SYNPO',\n",
       "    'CRIM1',\n",
       "    'FGF1',\n",
       "    'TNNI1',\n",
       "    'NPNT',\n",
       "    'PDLIM2',\n",
       "    'PLTP',\n",
       "    'UACA',\n",
       "    'CRB2',\n",
       "    'CHST2',\n",
       "    'WT1-AS',\n",
       "    'TPPP3',\n",
       "    'NFASC',\n",
       "    'ARHGEF12',\n",
       "    'PRSS23',\n",
       "    'SRGAP2B',\n",
       "    'EIF3M']},\n",
       "  'conversation_history': [('Final Annotation Agent',\n",
       "    '### Step-by-Step Analysis:\\n\\n#### 1. **List the Key Functional Markers**\\n   - **MAFB**: A transcription factor involved in regulating differentiation and function of various cell types, including macrophages and podocytes.\\n   - **PODXL**: Podocalyxin, a sialomucin protein critical for maintaining the structure and function of podocytes in the kidney.\\n   - **CLIC5**: Chloride intracellular channel 5, associated with podocyte function and cytoskeletal organization.\\n   - **IGFBP1**: Insulin-like growth factor-binding protein 1, involved in modulating IGF signaling and extracellular matrix interactions.\\n   - **NPHS2**: Encodes podocin, a key protein in the slit diaphragm of podocytes, essential for glomerular filtration.\\n   - **WT1**: Wilms tumor 1, a transcription factor critical for kidney and gonadal development, and a marker of podocytes.\\n   - **SYNPO**: Synaptopodin, a cytoskeletal protein specific to podocytes and dendritic spines.\\n   - **COL4A3**: Collagen type IV alpha 3 chain, a component of the glomerular basement membrane.\\n   - **VEGFA**: Vascular endothelial growth factor A, important for angiogenesis and endothelial cell function.\\n   - **CHI3L1**: Chitinase 3-like 1, associated with tissue remodeling and inflammation.\\n   - **TGFBR3**: Transforming growth factor-beta receptor 3, involved in TGF-beta signaling and extracellular matrix regulation.\\n\\n   **Functional Summary**: The markers strongly suggest involvement in podocyte-specific functions, including glomerular filtration, cytoskeletal organization, and extracellular matrix interactions.\\n\\n#### 2. **List the Key Cell Type Markers**\\n   - **MAFB, PODXL, NPHS2, SYNPO, WT1**: These are hallmark markers of podocytes, specialized epithelial cells in the kidney glomerulus.\\n   - **CLIC5, COL4A3, VEGFA**: Additional markers associated with podocyte function and the glomerular basement membrane.\\n   - **CHI3L1, TGFBR3**: These markers are less specific but may indicate tissue remodeling or extracellular matrix interactions, which are also relevant to podocytes.\\n   - **IGFBP1, IGFBP2**: These are associated with extracellular matrix interactions and growth factor signaling, which are relevant to podocyte biology.\\n\\n   **Cell Type Summary**: The markers are highly specific to podocytes, a specialized cell type in the kidney glomerulus.\\n\\n#### 3. **Cross-reference Known Databases**\\n   - Using databases such as the Human Protein Atlas, PanglaoDB, and CellMarker, the markers **MAFB, PODXL, NPHS2, SYNPO, WT1, and COL4A3** are strongly associated with podocytes.\\n   - Literature review confirms that these markers are highly specific to podocytes and are not typically expressed in other cell types in the large intestine or other tissues.\\n\\n#### 4. **Determine the Most Probable General Cell Type**\\n   - Based on the expression of podocyte-specific markers (e.g., PODXL, NPHS2, SYNPO, WT1), the most probable general cell type is **podocytes**.\\n\\n#### 5. **Identify the Top 3 Most Probable Sub Cell Types**\\n   - Podocytes are a highly specialized cell type with limited subtypes. However, based on the expression of markers, we can infer:\\n     1. **Mature Podocytes**: High expression of NPHS2, SYNPO, and WT1 suggests mature, fully differentiated podocytes.\\n     2. **Immature Podocytes**: Lower expression of NPHS2 and SYNPO, with higher expression of WT1, may indicate immature podocytes.\\n     3. **Injured Podocytes**: Expression of stress-related markers like CHI3L1 and VEGFA may indicate podocytes undergoing injury or stress.\\n\\n   **Most Likely Subtype**: The expression profile strongly suggests **mature podocytes** as the most likely subtype.\\n\\n#### 6. **Provide a Concise Summary of Your Analysis**\\n   - The ranked marker list provided is highly specific to podocytes, a specialized epithelial cell type in the kidney glomerulus. Key markers such as **MAFB, PODXL, NPHS2, SYNPO, and WT1** are hallmark podocyte markers, and their co-expression strongly supports this annotation. Functional markers like **COL4A3, VEGFA, and TGFBR3** further support the role of these cells in glomerular filtration and extracellular matrix interactions. The most likely subtype is **mature podocytes**, given the high expression of differentiation markers.\\n\\n**FINAL ANNOTATION COMPLETED**'),\n",
       "   ('Coupling Validator',\n",
       "    '### Validation Process:\\n\\n#### 1. **Marker Consistency**\\n- The proposed annotation identifies the cell type as **podocytes**, a specialized epithelial cell type in the kidney glomerulus.\\n- The ranked marker list provided in the annotation includes the following markers: **MAFB, PODXL, CLIC5, IGFBP1, NPHS2, WT1, SYNPO, COL4A3, VEGFA, CHI3L1, TGFBR3**.\\n- Cross-referencing these markers with the provided marker list:\\n  - **MAFB, PODXL, CLIC5, IGFBP1, NPHS2, WT1, SYNPO, COL4A3, VEGFA, CHI3L1, TGFBR3** are all present in the provided marker list.\\n  - These markers are well-documented in the literature and databases (e.g., Human Protein Atlas, PanglaoDB) as being associated with podocytes or their functions (e.g., glomerular filtration, cytoskeletal organization, extracellular matrix interactions).\\n- The annotation is consistent with the provided marker list and the known biology of podocytes.\\n\\n#### 2. **Mixed Cell Type Consideration**\\n- The ranked marker list includes some markers that are less specific to podocytes, such as **CHI3L1** (associated with tissue remodeling and inflammation) and **TGFBR3** (involved in TGF-beta signaling and extracellular matrix regulation). However, these markers are still relevant to podocyte biology, particularly in the context of stress or injury.\\n- There is no strong evidence of multiple distinct cell types being represented in the marker list. The majority of high-ranking markers (e.g., **MAFB, PODXL, NPHS2, SYNPO, WT1**) are highly specific to podocytes, and the annotation does not suggest a mixed population.\\n- No further investigation into mixed cell types is required at this time.\\n\\n#### 3. **Final Assessment**\\n- The annotation result is consistent with the provided marker list and the known biology of podocytes.\\n- The markers strongly support the identification of the cell type as **podocytes**, with a likely subtype of **mature podocytes** based on the expression of differentiation markers (e.g., **NPHS2, SYNPO, WT1**).\\n\\n### Validation Result:\\n**VALIDATION PASSED**'),\n",
       "   ('Formatting Agent',\n",
       "    '{\\n  \"main_cell_type\": \"Podocytes\",\\n  \"sub_cell_types\": [\\n    \"Mature Podocytes\",\\n    \"Immature Podocytes\",\\n    \"Injured Podocytes\"\\n  ],\\n  \"possible_mixed_cell_types\": [],\\n  \"num_markers\": 50\\n}')],\n",
       "  'iterations': 1}}"
      ]
     },
     "execution_count": 13,
     "metadata": {},
     "output_type": "execute_result"
    }
   ],
   "source": [
    "# Calculate recommended workers\n",
    "output_name=\"intestine_detailed\"\n",
    "\n",
    "# Run batch analysis\n",
    "CASSIA.runCASSIA_batch(\n",
    "    marker = markers_unprocessed,\n",
    "    output_name = output_name,\n",
    "    model = \"openai/gpt-4o-2024-11-20\",\n",
    "    tissue = \"large intestine\",\n",
    "    species = \"human\",\n",
    "    max_workers = 6,  # Matching cluster count\n",
    "    n_genes = 50,\n",
    "    additional_info = None,\n",
    "    provider = \"openrouter\")"
   ]
  },
  {
   "cell_type": "markdown",
   "metadata": {},
   "source": [
    "### Step 3: Quality Scoring"
   ]
  },
  {
   "cell_type": "code",
   "execution_count": 15,
   "metadata": {},
   "outputs": [
    {
     "name": "stdout",
     "output_type": "stream",
     "text": [
      "Starting scoring process with 6 workers using openrouter (anthropic/claude-3.5-sonnet)...\n",
      "Processed row 1: Score = 95\n",
      "Processed row 2: Score = 95\n",
      "Processed row 3: Score = 30\n",
      "\n",
      "Scoring completed!\n",
      "\n",
      "Summary:\n",
      "Total rows: 3\n",
      "Successfully scored: 3\n",
      "Failed/Skipped: 0\n"
     ]
    },
    {
     "ename": "TypeError",
     "evalue": "runCASSIA_generate_score_report() got an unexpected keyword argument 'output_name'",
     "output_type": "error",
     "traceback": [
      "\u001b[1;31m---------------------------------------------------------------------------\u001b[0m",
      "\u001b[1;31mTypeError\u001b[0m                                 Traceback (most recent call last)",
      "Cell \u001b[1;32mIn[15], line 11\u001b[0m\n\u001b[0;32m      2\u001b[0m CASSIA\u001b[38;5;241m.\u001b[39mrunCASSIA_score_batch(\n\u001b[0;32m      3\u001b[0m     input_file \u001b[38;5;241m=\u001b[39m output_name \u001b[38;5;241m+\u001b[39m \u001b[38;5;124m\"\u001b[39m\u001b[38;5;124m_full.csv\u001b[39m\u001b[38;5;124m\"\u001b[39m,\n\u001b[0;32m      4\u001b[0m     output_file \u001b[38;5;241m=\u001b[39m output_name \u001b[38;5;241m+\u001b[39m \u001b[38;5;124m\"\u001b[39m\u001b[38;5;124m_scored.csv\u001b[39m\u001b[38;5;124m\"\u001b[39m,\n\u001b[1;32m   (...)\u001b[0m\n\u001b[0;32m      7\u001b[0m     provider \u001b[38;5;241m=\u001b[39m \u001b[38;5;124m\"\u001b[39m\u001b[38;5;124mopenrouter\u001b[39m\u001b[38;5;124m\"\u001b[39m\n\u001b[0;32m      8\u001b[0m )\n\u001b[0;32m     10\u001b[0m \u001b[38;5;66;03m# Generate quality report\u001b[39;00m\n\u001b[1;32m---> 11\u001b[0m \u001b[43mCASSIA\u001b[49m\u001b[38;5;241;43m.\u001b[39;49m\u001b[43mrunCASSIA_generate_score_report\u001b[49m\u001b[43m(\u001b[49m\n\u001b[0;32m     12\u001b[0m \u001b[43m    \u001b[49m\u001b[43mcsv_path\u001b[49m\u001b[43m \u001b[49m\u001b[38;5;241;43m=\u001b[39;49m\u001b[43m \u001b[49m\u001b[43moutput_name\u001b[49m\u001b[43m \u001b[49m\u001b[38;5;241;43m+\u001b[39;49m\u001b[43m \u001b[49m\u001b[38;5;124;43m\"\u001b[39;49m\u001b[38;5;124;43m_scored.csv\u001b[39;49m\u001b[38;5;124;43m\"\u001b[39;49m\u001b[43m,\u001b[49m\n\u001b[0;32m     13\u001b[0m \u001b[43m    \u001b[49m\u001b[43moutput_name\u001b[49m\u001b[43m \u001b[49m\u001b[38;5;241;43m=\u001b[39;49m\u001b[43m \u001b[49m\u001b[43moutput_name\u001b[49m\u001b[43m \u001b[49m\u001b[38;5;241;43m+\u001b[39;49m\u001b[43m \u001b[49m\u001b[38;5;124;43m\"\u001b[39;49m\u001b[38;5;124;43m_report.html\u001b[39;49m\u001b[38;5;124;43m\"\u001b[39;49m\n\u001b[0;32m     14\u001b[0m \u001b[43m)\u001b[49m\n",
      "\u001b[1;31mTypeError\u001b[0m: runCASSIA_generate_score_report() got an unexpected keyword argument 'output_name'"
     ]
    }
   ],
   "source": [
    "# Run quality scoring\n",
    "CASSIA.runCASSIA_score_batch(\n",
    "    input_file = output_name + \"_full.csv\",\n",
    "    output_file = output_name + \"_scored.csv\",\n",
    "    max_workers = 6,\n",
    "    model = \"anthropic/claude-3.5-sonnet\",\n",
    "    provider = \"openrouter\"\n",
    ")\n",
    "\n",
    "# Generate quality report\n",
    "CASSIA.runCASSIA_generate_score_report(\n",
    "    csv_path = output_name + \"_scored.csv\",\n",
    "    index_name = output_name + \"_report.html\"\n",
    ")"
   ]
  },
  {
   "cell_type": "markdown",
   "metadata": {},
   "source": [
    "### Optional Step: Annotation Boost on Selected Cluster\n",
    "\n",
    "The monocyte cluster is sometimes annotated as mixed population of immune cell and neuron/glia cells.\n",
    "\n",
    "Here we use annotation boost agent to test these hypothesis in more detail."
   ]
  },
  {
   "cell_type": "code",
   "execution_count": 19,
   "metadata": {},
   "outputs": [
    {
     "name": "stdout",
     "output_type": "stream",
     "text": [
      "Iteration 1 completed.\n",
      "Iteration 2 completed.\n",
      "Iteration 3 completed.\n",
      "Iteration 4 completed.\n",
      "Final annotation completed in iteration 5.\n",
      "HTML report generated and saved as 'monocyte_annotationboost2.html'\n",
      "Report successfully saved as 'monocyte_annotationboost2_raw.html'\n",
      "Analysis completed successfully. Report saved as monocyte_annotationboost2\n"
     ]
    }
   ],
   "source": [
    "# Run validation plus for the high mitochondrial content cluster\n",
    "CASSIA.runCASSIA_annotationboost(\n",
    "    full_result_path = output_name + \"_full.csv\",\n",
    "    marker = markers_unprocessed,\n",
    "    output_name = \"monocyte_annotationboost2\",\n",
    "    cluster_name = \"Podocyte\",\n",
    "    major_cluster_info = \"Human Large Intestine\",\n",
    "    num_iterations = 5,\n",
    "    model = \"anthropic/claude-3.5-sonnet\",\n",
    "    provider = \"openrouter\"\n",
    ")"
   ]
  },
  {
   "cell_type": "markdown",
   "metadata": {},
   "source": [
    "### Optional Step: Compare the Subtypes Using Multiple LLMs\n",
    "\n",
    "This agent can be used after you finish the default CASSIA pipeline, and are still unsure about a celltype. You can use this agent to get a more confident subtype annotation. Here we use the Plasma Cells cluster as examples. To distinguish if it is more like a general plasma cell or other celltypes."
   ]
  },
  {
   "cell_type": "code",
   "execution_count": 21,
   "metadata": {},
   "outputs": [
    {
     "name": "stdout",
     "output_type": "stream",
     "text": [
      "Model: anthropic/claude-3.5-sonnet\n",
      "Response: As a professional biologist, I'll analyze the marker set and score each plasma cell type based on known characteristics and markers. Let's evaluate each option:\n",
      "\n",
      "IgA-secreting Plasma Cells: 85/100\n",
      "Key supporting evidence:\n",
      "- Strong presence of IGHA1 and IGHA2 (IgA heavy chains)\n",
      "- High expression of JCHAIN (important for IgA dimerization)\n",
      "- Presence of CCR10 (homing receptor for IgA plasma cells)\n",
      "- Common plasma cell markers (MZB1, TNFRSF17)\n",
      "\n",
      "IgG-secreting Plasma Cells: 60/100\n",
      "Key supporting evidence:\n",
      "- Presence of IGHG1 and IGHG3 (IgG heavy chains)\n",
      "- Common plasma cell markers present\n",
      "- However, lacks some typical IgG-specific markers\n",
      "\n",
      "IgM-secreting Plasma Cells: 45/100\n",
      "Key supporting evidence:\n",
      "- Presence of IGHM (IgM heavy chain)\n",
      "- JCHAIN present (relevant for IgM pentamers)\n",
      "- However, overall profile less consistent with IgM-dominant cells\n",
      "\n",
      "General Plasma Cells: 75/100\n",
      "Key supporting evidence:\n",
      "- Strong presence of general plasma cell markers (MZB1, TNFRSF17)\n",
      "- Immunoglobulin-related genes (IGLL5, IGLV genes, IGKC)\n",
      "- Common plasma cell transcription factors\n",
      "\n",
      "Based on the marker profile, this most strongly resembles IgA-secreting Plasma Cells (85/100), particularly given the presence of IGHA1/2, JCHAIN, and CCR10, which are characteristic of intestinal IgA-producing plasma cells.\n",
      "\n",
      "Model: openai/o1-mini\n",
      "Response: Based on the provided ranked marker set from the human large intestine, the expression profile strongly suggests the presence of Plasma Cells with indications of specific immunoglobulin-secreting subsets. Here's a detailed analysis and scoring for each option:\n",
      "\n",
      "### **1. Plasma Cells**\n",
      "**Score: 95**\n",
      "\n",
      "- **Supporting Markers:**\n",
      "  - **IGLL5, IGLV6-57, IGLC3, IGLC2, IGKV4-1, IGKV1-5, IGKC, IGHV3-7, IGHV3-23, IGHV3-74, IGKV3-20:** These are various immunoglobulin light and heavy chain genes indicative of B-cell lineage and plasma cell differentiation.\n",
      "  - **JCHAIN:** Involved in the polymerization of IgA and IgM, commonly expressed in Plasma Cells.\n",
      "  - **TNFRSF17 (BCMA):** A well-known plasma cell surface marker.\n",
      "  - **MZB1, FCRL5:** Associated with plasma cell function and maturation.\n",
      "\n",
      "The high representation of immunoglobulin genes alongside classic plasma cell markers strongly supports the identification of general Plasma Cells.\n",
      "\n",
      "### **2. IgA-secreting Plasma Cells**\n",
      "**Score: 75**\n",
      "\n",
      "- **Supporting Markers:**\n",
      "  - **IGHA1, IGHA2:** Specific to IgA heavy chains.\n",
      "  - **JCHAIN:** Essential for IgA dimer formation, reinforcing the presence of IgA-secreting cells.\n",
      "\n",
      "The presence of IgA-specific markers suggests a significant population of IgA-secreting Plasma Cells, especially relevant in mucosal tissues like the large intestine.\n",
      "\n",
      "### **3. IgG-secreting Plasma Cells**\n",
      "**Score: 80**\n",
      "\n",
      "- **Supporting Markers:**\n",
      "  - **IGHG1, IGHG3:** Specific to IgG heavy chains.\n",
      "\n",
      "The detection of multiple IgG heavy chains indicates a robust population of IgG-secreting Plasma Cells, which play a crucial role in systemic immune responses.\n",
      "\n",
      "### **4. IgM-secreting Plasma Cells**\n",
      "**Score: 65**\n",
      "\n",
      "- **Supporting Markers:**\n",
      "  - **IGHM:** Specific to IgM heavy chains.\n",
      "  - **JCHAIN:** Also involved in IgM polymerization.\n",
      "\n",
      "While IgM markers are present, their representation is relatively lower compared to IgA and IgG markers, suggesting a smaller population of IgM-secreting Plasma Cells in this context.\n",
      "\n",
      "### **Summary of Scores:**\n",
      "- **Plasma Cells:** 95\n",
      "- **IgA-secreting Plasma Cells:** 75\n",
      "- **IgG-secreting Plasma Cells:** 80\n",
      "- **IgM-secreting Plasma Cells:** 65\n",
      "\n",
      "These scores reflect the relative abundance and significance of each Plasma Cell subset based on the provided marker set. The high scores for general Plasma Cells and IgG-secreting Plasma Cells indicate their prominent roles in the immune landscape of the human large intestine, with notable contributions from IgA-secreting counterparts as well.\n",
      "\n",
      "Model: google/gemini-pro-1.5\n",
      "Response: As a professional biologist, evaluating this ranked marker set points strongly towards **IgA-secreting Plasma Cells**.  Here's my breakdown with scores and reasoning:\n",
      "\n",
      "* **IgA-secreting Plasma Cells:** 95/100\n",
      "* **Plasma Cells (general):** 80/100\n",
      "* **IgG-secreting Plasma Cells:** 30/100\n",
      "* **IgM-secreting Plasma Cells:** 10/100\n",
      "\n",
      "**Reasoning:**\n",
      "\n",
      "The dominant presence of IgA-related genes clearly elevates IgA-secreting plasma cells above the rest.  Here's a detailed analysis:\n",
      "\n",
      "* **Strong support for IgA-secreting Plasma Cells:**\n",
      "    * **IGHA1, IGHA2:**  These are the defining heavy chain constant region genes for IgA.  Their presence is the strongest indicator.\n",
      "    * **JCHAIN:**  J chain is essential for polymeric immunoglobulin formation, particularly dimeric IgA, which is the predominant form secreted in mucosal tissues like the large intestine.\n",
      "    * **IGLL5:** Lambda light chains, while found in other immunoglobulins, are frequently associated with IgA.\n",
      "\n",
      "* **General Plasma Cell Markers:**\n",
      "    * **Immunoglobulin genes (IGHV, IGLV, IGKV, IGLC):** The presence of various heavy and light chain variable and constant region genes confirms a B-cell lineage committed to antibody production, a defining characteristic of plasma cells.\n",
      "    * **MZB1:**  Marginal zone B and B1 cell-specific protein, involved in IgA responses.\n",
      "    * **TNFRSF17 (BCMA):** Receptor for APRIL and BAFF, crucial survival factors for plasma cells.\n",
      "\n",
      "* **Evidence *against* IgG and IgM-secreting Plasma Cells:**\n",
      "    * **Lack of IGHG constant region genes (other than a single IGHG1 and IGHG3):**  While the list contains *variable* heavy chain genes (IGHV), the critical *constant* region genes for IgG (IGHG2, IGHG4 for example) are largely absent.   The presence of single IGHG genes likely reflects some IgG+ plasma cell contamination or bystander expression. IGHG1 is also expressed by a small subset of IgA plasma cells that are IgA1/IgG1 double positive.\n",
      "    * **Lack of IGHM:** While IGHM is mentioned once, its low rank compared to the IgA heavy chain genes suggests it’s not a prominent product. The sheer abundance of IgA-related markers overshadows this single IGHM instance.\n",
      "\n",
      "* **Other Genes:** Many other genes in the list (e.g., APOBEC3A, CCR10, BMP6, etc.) represent associated cellular processes, likely reflecting the complex microenvironment of the large intestine, but are not specific to a specific plasma cell subtype.  Some might be involved in mucosal immunity or inflammatory responses.\n",
      "\n",
      "**In summary:** The prominence of IGHA1, IGHA2, and JCHAIN, coupled with the general plasma cell markers, strongly favors the identification of these cells as IgA-secreting plasma cells residing in the large intestine, a primary site for IgA production.  The lack of defining IgG and IgM constant region genes further reinforces this conclusion.\n",
      "\n",
      "\n",
      "Results saved to plasama_cell_subtype\n"
     ]
    }
   ],
   "source": [
    "# The marker here are copy from CASSIA's previous results.\n",
    "marker = \"IGLL5, IGLV6-57, JCHAIN, FAM92B, IGLC3, IGLC2, IGHV3-7, IGKC, TNFRSF17, IGHG1, AC026369.3, IGHV3-23, IGKV4-1, IGKV1-5, IGHA1, IGLV3-1, IGLV2-11, MYL2, MZB1, IGHG3, IGHV3-74, IGHM, ANKRD36BP2, AMPD1, IGKV3-20, IGHA2, DERL3, AC104699.1, LINC02362, AL391056.1, LILRB4, CCL3, BMP6, UBE2QL1, LINC00309, AL133467.1, GPRC5D, FCRL5, DNAAF1, AP002852.1, AC007569.1, CXorf21, RNU1-85P, U62317.4, TXNDC5, LINC02384, CCR10, BFSP2, APOBEC3A, AC106897.1\"\n",
    "\n",
    "CASSIA.compareCelltypes(\n",
    "    tissue = \"large intestine\",\n",
    "    celltypes = [\"Plasma Cells\", \"IgA-secreting Plasma Cells\", \"IgG-secreting Plasma Cells\", \"IgM-secreting Plasma Cells\"],\n",
    "    marker_set = marker,\n",
    "    species = \"human\",\n",
    "    output_file = \"plasama_cell_subtype\"\n",
    ")"
   ]
  },
  {
   "cell_type": "markdown",
   "metadata": {},
   "source": [
    "### Optional Step: Subclustering\n",
    "\n",
    "\n",
    "This agent can be used to study subclustered population, such as a T cell population or a Fibroblast cluster. We recommend to apply the default cassia first, and on a target cluster, apply Seurat pipeline to subcluster the cluster and get the findallmarke results to be used here. Here we present the results for the cd8-positive, alpha-beta t cell cluster as example. This cluster is a cd8 population mixed with other celltypes."
   ]
  },
  {
   "cell_type": "code",
   "execution_count": null,
   "metadata": {},
   "outputs": [],
   "source": [
    "##below are R code or can be done in Scanpy too\n",
    "\n",
    "# large=readRDS(\"/Users/xie227/Downloads/seurat_object.rds\")\n",
    "# # Extract CD8+ T cells\n",
    "# cd8_cells <- subset(large, cell_ontology_class == \"cd8-positive, alpha-beta t cell\")\n",
    "# # Normalize and identify variable features\n",
    "# cd8_cells <- NormalizeData(cd8_cells)\n",
    "# cd8_cells <- FindVariableFeatures(cd8_cells, selection.method = \"vst\", nfeatures = 2000)\n",
    "# # Scale data and run PCA\n",
    "# all.genes <- rownames(cd8_cells)\n",
    "# cd8_cells <- ScaleData(cd8_cells, features = all.genes)\n",
    "# cd8_cells <- RunPCA(cd8_cells, features = VariableFeatures(object = cd8_cells),npcs = 30)\n",
    "# # Run clustering (adjust resolution and dims as needed based on elbow plot)\n",
    "# cd8_cells <- FindNeighbors(cd8_cells, dims = 1:20)\n",
    "# cd8_cells <- FindClusters(cd8_cells, resolution = 0.3)\n",
    "# # Run UMAP\n",
    "# cd8_cells <- RunUMAP(cd8_cells, dims = 1:20)\n",
    "# # Create visualization plots\n",
    "# p1 <- DimPlot(cd8_cells, reduction = \"umap\", label = TRUE) +\n",
    "#   ggtitle(\"CD8+ T Cell Subclusters\")\n",
    "# # Find markers for each subcluster\n",
    "# cd8_markers <- FindAllMarkers(cd8_cells,\n",
    "#                             only.pos = TRUE,\n",
    "#                             min.pct = 0.1,\n",
    "#                             logfc.threshold = 0.25)\n",
    "# cd8_markers=cd8_markers %>% filter(p_val_adj<0.05)\n",
    "# write.csv(cd8_markers, \"cd8_subcluster_markers.csv\")\n",
    "\n",
    "marker_sub=read.csv(\"C:/Users/ellio/OneDrive - UW-Madison/cellgpt_final_folder/Test_results/Elliot/GTEX/final_testing/final_code_for_r_package/inst/extdata/subcluster_results.csv\")\n",
    "\n",
    "marker_sub=loadExampleMarkers_subcluster()\n",
    "\n",
    "\n",
    "CASSIA.runCASSIA_subclusters(marker = marker_sub,\n",
    "    major_cluster_info = \"cd8 t cell\",\n",
    "    output_name = \"subclustering_results\",\n",
    "    model = \"anthropic/claude-3.5-sonnet\",\n",
    "    provider = \"openrouter\")"
   ]
  },
  {
   "cell_type": "code",
   "execution_count": null,
   "metadata": {},
   "outputs": [],
   "source": []
  },
  {
   "cell_type": "markdown",
   "metadata": {},
   "source": [
    "It is recommend to run the CS score for the subclustering to get a more confident answer."
   ]
  },
  {
   "cell_type": "code",
   "execution_count": null,
   "metadata": {},
   "outputs": [],
   "source": [
    "CASSIA.runCASSIA_n_subcluster(n=5, marker_sub, \"cd8 t cell\", \"subclustering_results_n\", \n",
    "                                               model = \"anthropic/claude-3.5-sonnet\", temperature = 0, \n",
    "                                               provider = \"openrouter\", max_workers = 5,n_genes=50L)\n",
    "\n",
    "\n",
    "\n",
    "\n",
    "# Calculate similarity scores\n",
    "CASSIA.runCASSIA_similarity_score_batch(\n",
    "    marker = marker_sub,\n",
    "    file_pattern = \"subclustering_results_n_*.csv\",\n",
    "    output_name = \"subclustering_uncertainty\",\n",
    "    max_workers = 6,\n",
    "    model = \"claude-3-5-sonnet-20241022\",\n",
    "    provider = \"anthropic\",\n",
    "    main_weight = 0.5,\n",
    "    sub_weight = 0.5\n",
    ")"
   ]
  },
  {
   "cell_type": "markdown",
   "metadata": {},
   "source": [
    "### Optional Step: Annotation Boost with Additional Task\n",
    "\n",
    "This can be used to study a given problem related to a cluster, such as infer the state of a cluster. Here we use the cd8-positive, alpha-beta t cell as an example. Note that the performance of this agent has not been benchmarked, so please be cautious with the results."
   ]
  },
  {
   "cell_type": "code",
   "execution_count": null,
   "metadata": {},
   "outputs": [],
   "source": [
    "#only openrouter is supported as provider now.\n",
    "\n",
    "\n",
    "CASSIA.runCASSIA_annottaionboost_additional_task(\n",
    "    full_result_path = paste0(output_name, \"_full.csv\"),\n",
    "    marker = markers_unprocessed,\n",
    "    output_name=\"T_cell_state\",\n",
    "    cluster_name = \"cd8-positive, alpha-beta t cell\",  # Cluster with high mitochondrial content\n",
    "    major_cluster_info = \"Human Large Intestine\",\n",
    "    num_iterations = 5,\n",
    "    model = \"anthropic/claude-3.5-sonnet\",\n",
    "    additional_task = \"infer the state of this T cell cluster\"\n",
    ")\n"
   ]
  }
 ],
 "metadata": {
  "kernelspec": {
   "display_name": "Python 3",
   "language": "python",
   "name": "python3"
  },
  "language_info": {
   "codemirror_mode": {
    "name": "ipython",
    "version": 3
   },
   "file_extension": ".py",
   "mimetype": "text/x-python",
   "name": "python",
   "nbconvert_exporter": "python",
   "pygments_lexer": "ipython3",
   "version": "3.10.15"
  }
 },
 "nbformat": 4,
 "nbformat_minor": 2
}
